{
  "cells": [
    {
      "cell_type": "markdown",
      "metadata": {
        "id": "AFL2OxKvwCjV"
      },
      "source": [
        "### Домашняя работа 2.\n",
        "### Логистическая регрессия. Работа с признаками"
      ]
    },
    {
      "cell_type": "markdown",
      "metadata": {
        "id": "qDjz0XJ6wCjZ"
      },
      "source": [
        "\n",
        "### Оценивание и штрафы\n",
        "Каждая из задач имеет определенную «стоимость» (указана в скобках около задачи). Максимально допустимая оценка за работу — 15 баллов. Можно получить 4.5 бонусных балла.\n",
        "\n",
        "Неэффективная реализация кода может негативно отразиться на оценке."
      ]
    },
    {
      "cell_type": "code",
      "execution_count": 1,
      "metadata": {
        "colab": {
          "base_uri": "https://localhost:8080/"
        },
        "id": "JBpuDq1XwCja",
        "outputId": "3ba531e6-0c4b-4a7c-93c2-82358e4839db"
      },
      "outputs": [
        {
          "name": "stdout",
          "output_type": "stream",
          "text": [
            "Всем удачи!👒 Тут она точно пригодится.\n"
          ]
        }
      ],
      "source": [
        "print('Всем удачи!👒 Тут она точно пригодится.')"
      ]
    },
    {
      "cell_type": "code",
      "execution_count": 2,
      "metadata": {
        "ExecuteTime": {
          "end_time": "2019-10-16T18:11:48.202066Z",
          "start_time": "2019-10-16T18:11:46.362572Z"
        },
        "id": "RbMrzbI2wCjc"
      },
      "outputs": [],
      "source": [
        "%matplotlib inline\n",
        "import matplotlib as plt\n",
        "import pandas as pd\n",
        "\n",
        "from sklearn.datasets import make_classification\n",
        "from sklearn.model_selection import train_test_split\n",
        "import warnings\n",
        "warnings.filterwarnings('ignore')"
      ]
    },
    {
      "cell_type": "markdown",
      "metadata": {
        "id": "IgQM9eCiwCjd"
      },
      "source": [
        "## Часть 1. Логистическая регрессия своими руками (4 балла)"
      ]
    },
    {
      "cell_type": "markdown",
      "metadata": {
        "ExecuteTime": {
          "end_time": "2018-10-12T07:36:04.765536Z",
          "start_time": "2018-10-12T07:35:57.814973Z"
        },
        "id": "82gpb8LiwCjd"
      },
      "source": [
        "Реализуйте логистическую регрессию, обучаемую с помощью:\n",
        "\n",
        "**Задание 1 (1.5 балла). Градиентного спуска**\n",
        "\n",
        "**Задание 2 (1.5 балла). Стохастического градиентного спуска**\n",
        "\n",
        "Во всех пунктах необходимо соблюдать следующие условия:\n",
        "- Градиентный спуск необходимо записать в векторном виде\n",
        "- Циклы средствами python допускается использовать только для итераций градиентного спуска;\n",
        "- В качестве критерия останова необходимо использовать (одновременно):\n",
        "\n",
        "        проверку на евклидову норму разности весов на двух соседних итерациях (например, меньше некоторого малого числа порядка $10^{-6}$) задаваемого параметром `tolerance`;\n",
        "\n",
        "\n",
        "        достижение максимального числа итераций (например, 10000), задаваемого параметром `max_iter`.\n",
        "\n",
        "Чтобы проследить, что оптимизационный процесс действительно сходится, будем использовать атрибут класса loss_history. В нём после вызова метода fit должны содержаться значения функции потерь для всех итераций, начиная с первой (до совершения первого шага по антиградиенту);\n",
        "\n",
        "Инициализировать веса можно случайным образом или нулевым вектором."
      ]
    },
    {
      "cell_type": "markdown",
      "metadata": {
        "id": "Wncb0GdkwCje"
      },
      "source": [
        "Полезно [почитать](https://scikit-learn.org/stable/developers/develop.html)."
      ]
    },
    {
      "cell_type": "code",
      "execution_count": 3,
      "metadata": {
        "ExecuteTime": {
          "end_time": "2019-10-16T18:11:50.932537Z",
          "start_time": "2019-10-16T18:11:50.752839Z"
        },
        "id": "WGuiDVMxwCjf"
      },
      "outputs": [],
      "source": [
        "import numpy as np\n",
        "from sklearn.base import BaseEstimator\n",
        "\n",
        "class LogReg(BaseEstimator):\n",
        "    def __init__(self, gd_type='stochastic',\n",
        "                 tolerance=1e-4, max_iter=1000, w0=None, eta=1e-2):\n",
        "        \"\"\"\n",
        "        gd_type: 'full' or 'stochastic'\n",
        "        tolerance: for stopping gradient descent\n",
        "        max_iter: maximum number of steps in gradient descent\n",
        "        w0: np.array of shape (d) — init weights\n",
        "        eta: learning rate\n",
        "        \"\"\"\n",
        "        self.gd_type = gd_type\n",
        "        self.tolerance = tolerance\n",
        "        self.max_iter = max_iter\n",
        "        self.w0 = w0\n",
        "        #self.alpha = alpha\n",
        "        self.w = None\n",
        "        self.eta = eta\n",
        "        self.loss_history = None # list of loss function values at each training iteration\n",
        "\n",
        "    def fit(self, X, y):\n",
        "        \"\"\"\n",
        "        X: np.array of shape (ell, d)\n",
        "        y: np.array of shape (ell)\n",
        "        ---\n",
        "        output: self\n",
        "        \"\"\"\n",
        "        self.loss_history = []\n",
        "        #╰( ͡° ͜ʖ ͡° )つ──☆*:・ﾟ\n",
        "        if self.w0 is None:\n",
        "            self.w0 = np.zeros_like(X[1])\n",
        "        self.w = self.w0.copy()\n",
        "\n",
        "        for _ in range(self.max_iter):\n",
        "            grad = self.calc_gradient(X, y)\n",
        "            self.w = self.w - grad * self.eta\n",
        "            loss = self.calc_loss(X, y)\n",
        "            self.loss_history.append(loss)\n",
        "\n",
        "            if np.linalg.norm(self.eta * grad) < self.tolerance:\n",
        "                break\n",
        "\n",
        "        return self\n",
        "\n",
        "\n",
        "    def predict_proba(self, X):\n",
        "        if self.w is None:\n",
        "            raise Exception('Not trained yet')\n",
        "        #╰( ͡° ͜ʖ ͡° )つ──☆*:・ﾟ\n",
        "        return 1 / (1 + np.exp(-np.dot(X, self.w)))\n",
        "\n",
        "\n",
        "    def predict(self, X):\n",
        "        if self.w is None:\n",
        "            raise Exception('Not trained yet')\n",
        "        #╰( ͡° ͜ʖ ͡° )つ──☆*:・ﾟ\n",
        "        return np.round(self.predict_proba(X))\n",
        "\n",
        "    def calc_gradient(self, X, y):\n",
        "        \"\"\"\n",
        "        X: np.array of shape (ell, d) (ell can be equal to 1 if stochastic)\n",
        "        y: np.array of shape (ell)\n",
        "        ---\n",
        "        output: np.array of shape (d)\n",
        "        \"\"\"\n",
        "        #╰( ͡° ͜ʖ ͡° )つ──☆*:・ﾟ\n",
        "\n",
        "        if self.gd_type == 'full':\n",
        "            predictions = self.predict_proba(X)\n",
        "            error = y - predictions\n",
        "            grad = -np.dot(X.T, error) / len(y)\n",
        "\n",
        "        else:\n",
        "            ind = np.random.choice(X.shape[0], size=1)\n",
        "            predictions = self.predict_proba(X[ind])\n",
        "            errors = y[ind] - predictions\n",
        "            grad = -np.dot(X[ind].T, errors) / len(y[ind])\n",
        "\n",
        "        return grad\n",
        "\n",
        "    def calc_loss(self, X, y):\n",
        "        \"\"\"\n",
        "        X: np.array of shape (ell, d)\n",
        "        y: np.array of shape (ell)\n",
        "        ---\n",
        "        output: float\n",
        "        \"\"\"\n",
        "        #╰( ͡° ͜ʖ ͡° )つ──☆*:・ﾟ\n",
        "        epsilon = 1e-15\n",
        "        predictions = self.predict_proba(X)\n",
        "        loss = -np.mean(y * np.log(predictions + epsilon) + (1 - y) * np.log(1 - predictions + epsilon))\n",
        "        \n",
        "        return loss"
      ]
    },
    {
      "cell_type": "markdown",
      "metadata": {
        "id": "0HB77aGVwCjh"
      },
      "source": [
        "Синтетические данные"
      ]
    },
    {
      "cell_type": "code",
      "execution_count": 4,
      "metadata": {
        "colab": {
          "base_uri": "https://localhost:8080/"
        },
        "id": "7fkVq5czwCjh",
        "outputId": "ec7e6add-857a-4ef5-e958-709d3a7d8f97"
      },
      "outputs": [
        {
          "name": "stdout",
          "output_type": "stream",
          "text": [
            "%pylab is deprecated, use %matplotlib inline and import the required libraries.\n",
            "Populating the interactive namespace from numpy and matplotlib\n"
          ]
        }
      ],
      "source": [
        "%pylab inline\n",
        "import pandas as pd\n",
        "\n",
        "from sklearn.datasets import make_classification\n",
        "from sklearn.model_selection import train_test_split"
      ]
    },
    {
      "cell_type": "code",
      "execution_count": 5,
      "metadata": {
        "id": "8Xwtmh44wCji"
      },
      "outputs": [],
      "source": [
        "X, y = make_classification(\n",
        "    n_samples=100000, n_features=20, n_informative=10, n_redundant=10,\n",
        "    random_state=42)\n",
        "\n",
        "X_train, X_test, y_train, y_test = train_test_split(\n",
        "    X, y, test_size=0.3, random_state=42)"
      ]
    },
    {
      "cell_type": "markdown",
      "metadata": {
        "id": "nFt6QnzhwCji"
      },
      "source": [
        "**Важно:** далее предполагается, что вы используете собственную реализацию логистической регрессии.\n",
        "Если с написанием класса возникли проблемы, используйте реализацию sklearn, чтобы не терять баллы за остальные задания."
      ]
    },
    {
      "cell_type": "markdown",
      "metadata": {
        "id": "oFaFwyApwCji"
      },
      "source": [
        "**Задание 3 (1 балл)**\n",
        "\n",
        "Обучите логистическую регрессию на синтетических данных."
      ]
    },
    {
      "cell_type": "code",
      "execution_count": 6,
      "metadata": {
        "ExecuteTime": {
          "end_time": "2018-10-11T20:39:43.088969Z",
          "start_time": "2018-10-11T20:39:43.084985Z"
        },
        "colab": {
          "base_uri": "https://localhost:8080/"
        },
        "id": "0AawzidnwCji",
        "outputId": "7115df00-f0ed-4b7a-c7e3-85e801212dc2"
      },
      "outputs": [
        {
          "name": "stdout",
          "output_type": "stream",
          "text": [
            "Точность модели, использующей градиентный спуск на тестовом датасете: 0.849\n",
            "Время выполнения градиентного спуска: 2.0352 секунд.\n"
          ]
        }
      ],
      "source": [
        "### ╰( ͡° ͜ʖ ͡° )つ──☆*:・ﾟ\n",
        "import time\n",
        "logreg_full = LogReg(gd_type='full', max_iter=1000, tolerance=1e-6, eta=0.01)\n",
        "\n",
        "start_time = time.time()\n",
        "logreg_full.fit(X_train, y_train)\n",
        "end_time = time.time()\n",
        "grad_descent_time = end_time - start_time\n",
        "\n",
        "y_pred_full = logreg_full.predict(X_test)\n",
        "accuracy_full = np.mean(y_pred_full == y_test)\n",
        "\n",
        "print(f\"Точность модели, использующей градиентный спуск на тестовом датасете: {accuracy_full:.3f}\")\n",
        "print(f\"Время выполнения градиентного спуска: {grad_descent_time:.4f} секунд.\")"
      ]
    },
    {
      "cell_type": "code",
      "execution_count": 7,
      "metadata": {
        "colab": {
          "base_uri": "https://localhost:8080/"
        },
        "id": "6WbBDQmXwCjj",
        "outputId": "a52cfde3-adbb-4bec-b8d5-0584d3c414e2"
      },
      "outputs": [
        {
          "name": "stdout",
          "output_type": "stream",
          "text": [
            "Точность модели, использующей cтохастический градиентный спуск на тестовом датасете: 0.838\n",
            "Время выполнения Стохастического градиентного спуска: 1.3800 сек.\n"
          ]
        }
      ],
      "source": [
        "logreg_stoch = LogReg(gd_type='stochastic', max_iter=1000, tolerance=1e-6, eta=0.01)\n",
        "\n",
        "start_time = time.time()\n",
        "logreg_stoch.fit(X_train, y_train)\n",
        "end_time = time.time()\n",
        "stoch_grad_time = end_time - start_time\n",
        "\n",
        "y_pred_stoch = logreg_stoch.predict(X_test)\n",
        "accuracy_stoch = np.mean(y_pred_stoch == y_test)\n",
        "\n",
        "print(f\"Точность модели, использующей cтохастический градиентный спуск на тестовом датасете: {accuracy_stoch:.3f}\")\n",
        "print(f\"Время выполнения Стохастического градиентного спуска: {stoch_grad_time:.4f} сек.\")"
      ]
    },
    {
      "cell_type": "markdown",
      "metadata": {
        "id": "MfTKCWqtwCjj"
      },
      "source": [
        "На тестовой части посчитайте ROC-AUC, PR-AUC. Постройте ROC и PR кривые. Проинтерпретируйте результат."
      ]
    },
    {
      "cell_type": "code",
      "execution_count": 8,
      "metadata": {
        "colab": {
          "base_uri": "https://localhost:8080/"
        },
        "id": "cr2jZ_O1wCjj",
        "outputId": "78e92831-47f7-4aca-eedc-cc41eba0bfff"
      },
      "outputs": [
        {
          "name": "stdout",
          "output_type": "stream",
          "text": [
            "ROC-AUC (Градиентный спуск): 0.93\n",
            "ROC-AUC (Стохастический градиентный спуск): 0.92\n",
            "**************************************************\n",
            "PR-AUC (Градиентный спуск): 0.92\n",
            "PR-AUC (Стохастический градиентный спуск): 0.92\n"
          ]
        }
      ],
      "source": [
        "### ╰( ͡° ͜ʖ ͡° )つ──☆*:・ﾟ\n",
        "import matplotlib.pyplot as plt\n",
        "from sklearn.metrics import roc_auc_score, roc_curve, precision_recall_curve, auc\n",
        "\n",
        "# Вероятность принадлежности к классу 1\n",
        "y_prob_full = logreg_full.predict_proba(X_test)\n",
        "y_prob_stoch = logreg_stoch.predict_proba(X_test)\n",
        "\n",
        "# ROC-AUC\n",
        "roc_auc_full = roc_auc_score(y_test, y_prob_full)\n",
        "roc_auc_stoch = roc_auc_score(y_test, y_prob_stoch)\n",
        "print(f\"ROC-AUC (Градиентный спуск): {roc_auc_full:.2f}\")\n",
        "print(f\"ROC-AUC (Стохастический градиентный спуск): {roc_auc_stoch:.2f}\")\n",
        "print (('*') * 50)\n",
        "\n",
        "# PR-AUC\n",
        "precision_full, recall_full, _ = precision_recall_curve(y_test, y_prob_full)\n",
        "precision_stoch, recall_stoch, _ = precision_recall_curve(y_test, y_prob_stoch)\n",
        "\n",
        "pr_auc_full = auc(recall_full, precision_full)\n",
        "pr_auc_stoch = auc(recall_stoch, precision_stoch)\n",
        "\n",
        "\n",
        "print(f\"PR-AUC (Градиентный спуск): {pr_auc_full:.2f}\")\n",
        "print(f\"PR-AUC (Стохастический градиентный спуск): {pr_auc_stoch:.2f}\")"
      ]
    },
    {
      "cell_type": "code",
      "execution_count": 9,
      "metadata": {
        "colab": {
          "base_uri": "https://localhost:8080/",
          "height": 904
        },
        "id": "kkypuqhtwCjj",
        "outputId": "09ce406e-b7ab-4964-bf96-f3e844d6a6cc"
      },
      "outputs": [
        {
          "data": {
            "text/plain": [
              "<matplotlib.legend.Legend at 0x1b9efb15010>"
            ]
          },
          "execution_count": 9,
          "metadata": {},
          "output_type": "execute_result"
        },
        {
          "data": {
            "image/png": "[encoded data removed]",
            "text/plain": [
              "<Figure size 1000x1000 with 2 Axes>"
            ]
          },
          "metadata": {},
          "output_type": "display_data"
        },
        {
          "data": {
            "image/png": "[encoded data removed]",
            "text/plain": [
              "<Figure size 1000x1000 with 2 Axes>"
            ]
          },
          "metadata": {},
          "output_type": "display_data"
        }
      ],
      "source": [
        "# Построение ROC кривой для градиентного спуска\n",
        "plt.figure(figsize = (10, 10))\n",
        "\n",
        "plt.subplot(2, 2, 1)\n",
        "fpr_full, tpr_full, _ = roc_curve(y_test, y_prob_full)\n",
        "plt.plot(fpr_full, tpr_full, label=f'ROC curve, AUC = {roc_auc_full:.2f}')\n",
        "plt.xlabel('False Positive Rate')\n",
        "plt.ylabel('True Positive Rate')\n",
        "plt.grid(True)\n",
        "plt.title('ROC Curve -- Full GD')\n",
        "plt.legend()\n",
        "\n",
        "plt.subplot(2, 2, 2)\n",
        "fpr_stoch, tpr_stoch, _ = roc_curve(y_test, y_prob_stoch)\n",
        "plt.plot(fpr_stoch, tpr_stoch, label=f'ROC curve, AUC = {roc_auc_full:.2f})')\n",
        "plt.xlabel('False Positive Rate')\n",
        "plt.ylabel('True Positive Rate')\n",
        "plt.grid(True)\n",
        "plt.title('ROC Curve -- Stochastic GD')\n",
        "plt.legend()\n",
        "\n",
        "# Построение PR кривой для градиентного спуска\n",
        "plt.figure(figsize = (10, 10))\n",
        "\n",
        "plt.subplot(2, 2, 3)\n",
        "plt.plot(precision_full, recall_full, label=f'PR curve, AUC = {pr_auc_full:.2f}')\n",
        "plt.xlabel('False Positive Rate')\n",
        "plt.ylabel('True Positive Rate')\n",
        "plt.grid(True)\n",
        "plt.title('PR Curve -- Full GD')\n",
        "plt.legend()\n",
        "\n",
        "plt.subplot(2, 2, 4)\n",
        "plt.plot(precision_stoch, recall_stoch, label=f'PR curve, AUC = {pr_auc_stoch:.2f})')\n",
        "plt.xlabel('False Positive Rate')\n",
        "plt.ylabel('True Positive Rate')\n",
        "plt.grid(True)\n",
        "plt.title('PR Curve -- Stochastic GD')\n",
        "plt.legend()"
      ]
    },
    {
      "cell_type": "markdown",
      "metadata": {
        "id": "pH_BhKtGwCjk"
      },
      "source": [
        "Полный градиентный спуск вычисляет градиент заданной функции потерь по параметрам модели для всего набора данных.\n",
        "Алгоритм градиентного спуска высчитывает очередное приближение в направлении антиградиента с некоторым шагом,\n",
        "на который влияет коэффициент пропорциональности, или скорость обучения, пока не будет достигнут критерий останова.\n",
        "Такой метод максимально точный, но очень ресурсоемкий. \n",
        "\n",
        "$$  x_{k+1} = x_k − \\alpha \\cdot \\nabla_f(x_k)  $$\n",
        "\n",
        "Cтохастический градиентный спуск -- это вариант градиентного спуска,\n",
        "где для вычисления градиента на каждой итерации используется только часть данных для каждого обновления весов.\n",
        "Как видно по результатам выше, он требует гораздо меньше времени для нахождения минимума и при подобранных параметрах, таких как размер батча и скорость обучения (и толике удачи), сходится в ту же точку, что и обычный градиентный спуск.\n",
        "\n",
        "$$  x_{k+1} = x_k − \\alpha \\cdot g_k  $$\n",
        "\n",
        "где $ g_k $ - стохастический градиент."
      ]
    },
    {
      "cell_type": "markdown",
      "metadata": {
        "id": "XGDMkZ4uwCjk"
      },
      "source": [
        "## Часть 2. Работа с категориальными переменными (3 балла)"
      ]
    },
    {
      "cell_type": "markdown",
      "metadata": {
        "id": "5VUWebuMwCjk"
      },
      "source": [
        "В этой части мы научимся обрабатывать категориальные переменные, так как закодировать их в виде чисел недостаточно (это задаёт некоторый порядок, которого на категориальных переменных может и не быть). Существует два основных способа обработки категориальных значений:\n",
        "- One-hot-кодирование\n",
        "- Счётчики (CTR, mean-target кодирование, ...) — каждый категориальный признак заменяется на среднее значение целевой переменной по всем объектам, имеющим одинаковое значение в этом признаке.\n",
        "\n",
        "Начнём с one-hot-кодирования. Допустим наш категориальный признак $f_j(x)$ принимает значения из множества $C=\\{c_1, \\dots, c_m\\}$. Заменим его на $m$ бинарных признаков $b_1(x), \\dots, b_m(x)$, каждый из которых является индикатором одного из возможных категориальных значений:\n",
        "$$\n",
        "b_i(x) = [f_j(x) = c_i]\n",
        "$$"
      ]
    },
    {
      "cell_type": "markdown",
      "metadata": {
        "ExecuteTime": {
          "end_time": "2018-10-11T20:41:54.913436Z",
          "start_time": "2018-10-11T20:41:54.907515Z"
        },
        "id": "xP6Yv_Y0wCjk"
      },
      "source": [
        "__Подготовка данных.__\n",
        "\n",
        "Загрузим данные с конкурса  [Kaggle Porto Seguro’s Safe Driver Prediction](https://www.kaggle.com/c/porto-seguro-safe-driver-prediction) (вам нужна только обучающая выборка). Задача состоит в определении водителей, которые в ближайший год воспользуются своей автомобильной страховкой (бинарная классификация). Но для нас важна будет не сама задача, а только её данные. При этом для задания мы немного модифицируем датасет."
      ]
    },
    {
      "cell_type": "code",
      "execution_count": 79,
      "metadata": {
        "ExecuteTime": {
          "end_time": "2018-10-12T07:36:04.765536Z",
          "start_time": "2018-10-12T07:35:57.814973Z"
        },
        "id": "M9nGTgRPwCjk"
      },
      "outputs": [],
      "source": [
        "data = pd.read_csv('train.csv', index_col=0)\n",
        "target = data.target.values\n",
        "data = data.drop('target', axis=1)"
      ]
    },
    {
      "cell_type": "markdown",
      "metadata": {
        "id": "ofHL9CQEwCjl"
      },
      "source": [
        "Пересемплируем выборку так, чтобы положительных и отрицательных объектов в выборке было одинаковое число. Разделим на обучающую и тестовую выборки.\n"
      ]
    },
    {
      "cell_type": "code",
      "execution_count": 11,
      "metadata": {
        "ExecuteTime": {
          "end_time": "2018-10-12T07:36:05.368407Z",
          "start_time": "2018-10-12T07:36:04.770388Z"
        },
        "id": "hNsm9JIYwCjl"
      },
      "outputs": [],
      "source": [
        "# some resampling\n",
        "np.random.seed(910)\n",
        "mask_plus = np.random.choice(np.where(target == 1)[0], 100000, replace=True)\n",
        "mask_zero = np.random.choice(np.where(target == 0)[0], 100000, replace=True)\n",
        "\n",
        "data = pd.concat((data.iloc[mask_plus], data.iloc[mask_zero]))\n",
        "target = np.hstack((target[mask_plus], target[mask_zero]))\n",
        "\n",
        "X_train, X_test, y_train, y_test = train_test_split(data, target, test_size=0.5)"
      ]
    },
    {
      "cell_type": "code",
      "execution_count": 12,
      "metadata": {
        "colab": {
          "base_uri": "https://localhost:8080/",
          "height": 475
        },
        "id": "67mQ_k-8wCjl",
        "outputId": "17c1a909-a235-4d07-8119-f019f4257b11"
      },
      "outputs": [
        {
          "data": {
            "text/html": [
              "<div>\n",
              "<style scoped>\n",
              "    .dataframe tbody tr th:only-of-type {\n",
              "        vertical-align: middle;\n",
              "    }\n",
              "\n",
              "    .dataframe tbody tr th {\n",
              "        vertical-align: top;\n",
              "    }\n",
              "\n",
              "    .dataframe thead th {\n",
              "        text-align: right;\n",
              "    }\n",
              "</style>\n",
              "<table border=\"1\" class=\"dataframe\">\n",
              "  <thead>\n",
              "    <tr style=\"text-align: right;\">\n",
              "      <th></th>\n",
              "      <th>ps_ind_01</th>\n",
              "      <th>ps_ind_02_cat</th>\n",
              "      <th>ps_ind_03</th>\n",
              "      <th>ps_ind_04_cat</th>\n",
              "      <th>ps_ind_05_cat</th>\n",
              "      <th>ps_ind_06_bin</th>\n",
              "      <th>ps_ind_07_bin</th>\n",
              "      <th>ps_ind_08_bin</th>\n",
              "      <th>ps_ind_09_bin</th>\n",
              "      <th>ps_ind_10_bin</th>\n",
              "      <th>...</th>\n",
              "      <th>ps_calc_11</th>\n",
              "      <th>ps_calc_12</th>\n",
              "      <th>ps_calc_13</th>\n",
              "      <th>ps_calc_14</th>\n",
              "      <th>ps_calc_15_bin</th>\n",
              "      <th>ps_calc_16_bin</th>\n",
              "      <th>ps_calc_17_bin</th>\n",
              "      <th>ps_calc_18_bin</th>\n",
              "      <th>ps_calc_19_bin</th>\n",
              "      <th>ps_calc_20_bin</th>\n",
              "    </tr>\n",
              "    <tr>\n",
              "      <th>id</th>\n",
              "      <th></th>\n",
              "      <th></th>\n",
              "      <th></th>\n",
              "      <th></th>\n",
              "      <th></th>\n",
              "      <th></th>\n",
              "      <th></th>\n",
              "      <th></th>\n",
              "      <th></th>\n",
              "      <th></th>\n",
              "      <th></th>\n",
              "      <th></th>\n",
              "      <th></th>\n",
              "      <th></th>\n",
              "      <th></th>\n",
              "      <th></th>\n",
              "      <th></th>\n",
              "      <th></th>\n",
              "      <th></th>\n",
              "      <th></th>\n",
              "      <th></th>\n",
              "    </tr>\n",
              "  </thead>\n",
              "  <tbody>\n",
              "    <tr>\n",
              "      <th>1049183</th>\n",
              "      <td>0</td>\n",
              "      <td>1</td>\n",
              "      <td>5</td>\n",
              "      <td>0</td>\n",
              "      <td>0</td>\n",
              "      <td>1</td>\n",
              "      <td>0</td>\n",
              "      <td>0</td>\n",
              "      <td>0</td>\n",
              "      <td>0</td>\n",
              "      <td>...</td>\n",
              "      <td>4</td>\n",
              "      <td>3</td>\n",
              "      <td>4</td>\n",
              "      <td>6</td>\n",
              "      <td>0</td>\n",
              "      <td>0</td>\n",
              "      <td>0</td>\n",
              "      <td>0</td>\n",
              "      <td>0</td>\n",
              "      <td>0</td>\n",
              "    </tr>\n",
              "    <tr>\n",
              "      <th>106872</th>\n",
              "      <td>1</td>\n",
              "      <td>1</td>\n",
              "      <td>3</td>\n",
              "      <td>1</td>\n",
              "      <td>0</td>\n",
              "      <td>0</td>\n",
              "      <td>1</td>\n",
              "      <td>0</td>\n",
              "      <td>0</td>\n",
              "      <td>0</td>\n",
              "      <td>...</td>\n",
              "      <td>9</td>\n",
              "      <td>0</td>\n",
              "      <td>4</td>\n",
              "      <td>12</td>\n",
              "      <td>0</td>\n",
              "      <td>1</td>\n",
              "      <td>1</td>\n",
              "      <td>0</td>\n",
              "      <td>0</td>\n",
              "      <td>0</td>\n",
              "    </tr>\n",
              "    <tr>\n",
              "      <th>28943</th>\n",
              "      <td>6</td>\n",
              "      <td>2</td>\n",
              "      <td>7</td>\n",
              "      <td>1</td>\n",
              "      <td>0</td>\n",
              "      <td>0</td>\n",
              "      <td>0</td>\n",
              "      <td>1</td>\n",
              "      <td>0</td>\n",
              "      <td>0</td>\n",
              "      <td>...</td>\n",
              "      <td>4</td>\n",
              "      <td>1</td>\n",
              "      <td>2</td>\n",
              "      <td>7</td>\n",
              "      <td>0</td>\n",
              "      <td>1</td>\n",
              "      <td>1</td>\n",
              "      <td>0</td>\n",
              "      <td>1</td>\n",
              "      <td>0</td>\n",
              "    </tr>\n",
              "    <tr>\n",
              "      <th>851826</th>\n",
              "      <td>1</td>\n",
              "      <td>1</td>\n",
              "      <td>5</td>\n",
              "      <td>1</td>\n",
              "      <td>0</td>\n",
              "      <td>0</td>\n",
              "      <td>0</td>\n",
              "      <td>1</td>\n",
              "      <td>0</td>\n",
              "      <td>0</td>\n",
              "      <td>...</td>\n",
              "      <td>6</td>\n",
              "      <td>2</td>\n",
              "      <td>2</td>\n",
              "      <td>10</td>\n",
              "      <td>0</td>\n",
              "      <td>0</td>\n",
              "      <td>1</td>\n",
              "      <td>0</td>\n",
              "      <td>0</td>\n",
              "      <td>0</td>\n",
              "    </tr>\n",
              "    <tr>\n",
              "      <th>934813</th>\n",
              "      <td>0</td>\n",
              "      <td>1</td>\n",
              "      <td>1</td>\n",
              "      <td>0</td>\n",
              "      <td>4</td>\n",
              "      <td>1</td>\n",
              "      <td>0</td>\n",
              "      <td>0</td>\n",
              "      <td>0</td>\n",
              "      <td>0</td>\n",
              "      <td>...</td>\n",
              "      <td>9</td>\n",
              "      <td>1</td>\n",
              "      <td>2</td>\n",
              "      <td>14</td>\n",
              "      <td>0</td>\n",
              "      <td>1</td>\n",
              "      <td>1</td>\n",
              "      <td>0</td>\n",
              "      <td>0</td>\n",
              "      <td>0</td>\n",
              "    </tr>\n",
              "    <tr>\n",
              "      <th>...</th>\n",
              "      <td>...</td>\n",
              "      <td>...</td>\n",
              "      <td>...</td>\n",
              "      <td>...</td>\n",
              "      <td>...</td>\n",
              "      <td>...</td>\n",
              "      <td>...</td>\n",
              "      <td>...</td>\n",
              "      <td>...</td>\n",
              "      <td>...</td>\n",
              "      <td>...</td>\n",
              "      <td>...</td>\n",
              "      <td>...</td>\n",
              "      <td>...</td>\n",
              "      <td>...</td>\n",
              "      <td>...</td>\n",
              "      <td>...</td>\n",
              "      <td>...</td>\n",
              "      <td>...</td>\n",
              "      <td>...</td>\n",
              "      <td>...</td>\n",
              "    </tr>\n",
              "    <tr>\n",
              "      <th>624097</th>\n",
              "      <td>3</td>\n",
              "      <td>1</td>\n",
              "      <td>5</td>\n",
              "      <td>0</td>\n",
              "      <td>0</td>\n",
              "      <td>0</td>\n",
              "      <td>1</td>\n",
              "      <td>0</td>\n",
              "      <td>0</td>\n",
              "      <td>0</td>\n",
              "      <td>...</td>\n",
              "      <td>9</td>\n",
              "      <td>1</td>\n",
              "      <td>0</td>\n",
              "      <td>5</td>\n",
              "      <td>1</td>\n",
              "      <td>1</td>\n",
              "      <td>1</td>\n",
              "      <td>0</td>\n",
              "      <td>1</td>\n",
              "      <td>0</td>\n",
              "    </tr>\n",
              "    <tr>\n",
              "      <th>697975</th>\n",
              "      <td>0</td>\n",
              "      <td>2</td>\n",
              "      <td>1</td>\n",
              "      <td>1</td>\n",
              "      <td>0</td>\n",
              "      <td>1</td>\n",
              "      <td>0</td>\n",
              "      <td>0</td>\n",
              "      <td>0</td>\n",
              "      <td>0</td>\n",
              "      <td>...</td>\n",
              "      <td>6</td>\n",
              "      <td>0</td>\n",
              "      <td>2</td>\n",
              "      <td>7</td>\n",
              "      <td>0</td>\n",
              "      <td>1</td>\n",
              "      <td>0</td>\n",
              "      <td>0</td>\n",
              "      <td>1</td>\n",
              "      <td>0</td>\n",
              "    </tr>\n",
              "    <tr>\n",
              "      <th>723907</th>\n",
              "      <td>5</td>\n",
              "      <td>1</td>\n",
              "      <td>3</td>\n",
              "      <td>1</td>\n",
              "      <td>0</td>\n",
              "      <td>0</td>\n",
              "      <td>1</td>\n",
              "      <td>0</td>\n",
              "      <td>0</td>\n",
              "      <td>0</td>\n",
              "      <td>...</td>\n",
              "      <td>6</td>\n",
              "      <td>2</td>\n",
              "      <td>1</td>\n",
              "      <td>7</td>\n",
              "      <td>0</td>\n",
              "      <td>0</td>\n",
              "      <td>0</td>\n",
              "      <td>1</td>\n",
              "      <td>0</td>\n",
              "      <td>0</td>\n",
              "    </tr>\n",
              "    <tr>\n",
              "      <th>1055788</th>\n",
              "      <td>0</td>\n",
              "      <td>1</td>\n",
              "      <td>3</td>\n",
              "      <td>0</td>\n",
              "      <td>0</td>\n",
              "      <td>1</td>\n",
              "      <td>0</td>\n",
              "      <td>0</td>\n",
              "      <td>0</td>\n",
              "      <td>0</td>\n",
              "      <td>...</td>\n",
              "      <td>6</td>\n",
              "      <td>2</td>\n",
              "      <td>4</td>\n",
              "      <td>7</td>\n",
              "      <td>1</td>\n",
              "      <td>1</td>\n",
              "      <td>1</td>\n",
              "      <td>1</td>\n",
              "      <td>0</td>\n",
              "      <td>0</td>\n",
              "    </tr>\n",
              "    <tr>\n",
              "      <th>1072907</th>\n",
              "      <td>2</td>\n",
              "      <td>1</td>\n",
              "      <td>3</td>\n",
              "      <td>1</td>\n",
              "      <td>0</td>\n",
              "      <td>0</td>\n",
              "      <td>1</td>\n",
              "      <td>0</td>\n",
              "      <td>0</td>\n",
              "      <td>0</td>\n",
              "      <td>...</td>\n",
              "      <td>3</td>\n",
              "      <td>3</td>\n",
              "      <td>0</td>\n",
              "      <td>12</td>\n",
              "      <td>0</td>\n",
              "      <td>1</td>\n",
              "      <td>0</td>\n",
              "      <td>0</td>\n",
              "      <td>0</td>\n",
              "      <td>0</td>\n",
              "    </tr>\n",
              "  </tbody>\n",
              "</table>\n",
              "<p>100000 rows × 57 columns</p>\n",
              "</div>"
            ],
            "text/plain": [
              "         ps_ind_01  ps_ind_02_cat  ps_ind_03  ps_ind_04_cat  ps_ind_05_cat  \\\n",
              "id                                                                           \n",
              "1049183          0              1          5              0              0   \n",
              "106872           1              1          3              1              0   \n",
              "28943            6              2          7              1              0   \n",
              "851826           1              1          5              1              0   \n",
              "934813           0              1          1              0              4   \n",
              "...            ...            ...        ...            ...            ...   \n",
              "624097           3              1          5              0              0   \n",
              "697975           0              2          1              1              0   \n",
              "723907           5              1          3              1              0   \n",
              "1055788          0              1          3              0              0   \n",
              "1072907          2              1          3              1              0   \n",
              "\n",
              "         ps_ind_06_bin  ps_ind_07_bin  ps_ind_08_bin  ps_ind_09_bin  \\\n",
              "id                                                                    \n",
              "1049183              1              0              0              0   \n",
              "106872               0              1              0              0   \n",
              "28943                0              0              1              0   \n",
              "851826               0              0              1              0   \n",
              "934813               1              0              0              0   \n",
              "...                ...            ...            ...            ...   \n",
              "624097               0              1              0              0   \n",
              "697975               1              0              0              0   \n",
              "723907               0              1              0              0   \n",
              "1055788              1              0              0              0   \n",
              "1072907              0              1              0              0   \n",
              "\n",
              "         ps_ind_10_bin  ...  ps_calc_11  ps_calc_12  ps_calc_13  ps_calc_14  \\\n",
              "id                      ...                                                   \n",
              "1049183              0  ...           4           3           4           6   \n",
              "106872               0  ...           9           0           4          12   \n",
              "28943                0  ...           4           1           2           7   \n",
              "851826               0  ...           6           2           2          10   \n",
              "934813               0  ...           9           1           2          14   \n",
              "...                ...  ...         ...         ...         ...         ...   \n",
              "624097               0  ...           9           1           0           5   \n",
              "697975               0  ...           6           0           2           7   \n",
              "723907               0  ...           6           2           1           7   \n",
              "1055788              0  ...           6           2           4           7   \n",
              "1072907              0  ...           3           3           0          12   \n",
              "\n",
              "         ps_calc_15_bin  ps_calc_16_bin  ps_calc_17_bin  ps_calc_18_bin  \\\n",
              "id                                                                        \n",
              "1049183               0               0               0               0   \n",
              "106872                0               1               1               0   \n",
              "28943                 0               1               1               0   \n",
              "851826                0               0               1               0   \n",
              "934813                0               1               1               0   \n",
              "...                 ...             ...             ...             ...   \n",
              "624097                1               1               1               0   \n",
              "697975                0               1               0               0   \n",
              "723907                0               0               0               1   \n",
              "1055788               1               1               1               1   \n",
              "1072907               0               1               0               0   \n",
              "\n",
              "         ps_calc_19_bin  ps_calc_20_bin  \n",
              "id                                       \n",
              "1049183               0               0  \n",
              "106872                0               0  \n",
              "28943                 1               0  \n",
              "851826                0               0  \n",
              "934813                0               0  \n",
              "...                 ...             ...  \n",
              "624097                1               0  \n",
              "697975                1               0  \n",
              "723907                0               0  \n",
              "1055788               0               0  \n",
              "1072907               0               0  \n",
              "\n",
              "[100000 rows x 57 columns]"
            ]
          },
          "execution_count": 12,
          "metadata": {},
          "output_type": "execute_result"
        }
      ],
      "source": [
        "X_train"
      ]
    },
    {
      "cell_type": "code",
      "execution_count": 13,
      "metadata": {
        "id": "KnjUx0fKwCjl"
      },
      "outputs": [],
      "source": [
        "X_train = np.array(X_train)\n",
        "X_test = np.array(X_test)\n",
        "y_train = np.array(y_train)\n",
        "y_test = np.array(y_test)"
      ]
    },
    {
      "cell_type": "markdown",
      "metadata": {
        "id": "6xijNFyNwCjl"
      },
      "source": [
        "**Задание 5 (0 баллов).** Посчитайте качество (в этом задании будем работать c ROC-AUC) на исходных признаках при применении логистической регрессии."
      ]
    },
    {
      "cell_type": "code",
      "execution_count": 14,
      "metadata": {
        "colab": {
          "base_uri": "https://localhost:8080/"
        },
        "id": "WhsrVjOqwCjl",
        "outputId": "61925da1-3099-4008-e5a7-a7999035aeae"
      },
      "outputs": [
        {
          "name": "stderr",
          "output_type": "stream",
          "text": [
            "100%|██████████| 10/10 [01:02<00:00,  6.25s/it]"
          ]
        },
        {
          "name": "stdout",
          "output_type": "stream",
          "text": [
            "GD ROC-AUC: 0.559\n",
            "Среднее время выполнения LogReg с градиентным спуском: 6.230 секунд\n"
          ]
        },
        {
          "name": "stderr",
          "output_type": "stream",
          "text": [
            "\n"
          ]
        }
      ],
      "source": [
        "### ╰( ͡° ͜ʖ ͡° )つ──☆*:・ﾟ\n",
        "from tqdm import tqdm\n",
        "\n",
        "time_gd = []\n",
        "roc_auc_scores_gd = []\n",
        "\n",
        "# Возьмем лишь 10 итераций, так как GD считается довольно долго\n",
        "for i in tqdm(range(10)):\n",
        "    # Создаем модель с GD\n",
        "    logreg_gd = LogReg(gd_type='full', max_iter=1000, tolerance=1e-6, eta=0.01)\n",
        "\n",
        "    start_time = time.time()\n",
        "    logreg_gd.fit(X_train, y_train)\n",
        "    end_time = time.time()\n",
        "    sgd_time = end_time - start_time\n",
        "    time_gd.append(sgd_time)\n",
        "\n",
        "    # Вычисляем ROC-AUC на тесте\n",
        "    y_prob_gd = logreg_gd.predict_proba(X_test)\n",
        "    roc_auc_gd = roc_auc_score(y_test, y_prob_gd)\n",
        "    roc_auc_scores_gd.append(roc_auc_gd)\n",
        "\n",
        "# Усредняем\n",
        "average_time_gd = sum(time_gd) / len(time_gd)\n",
        "average_roc_auc_gd = sum(roc_auc_scores_gd) / len(roc_auc_scores_gd)\n",
        "\n",
        "print(f\"GD ROC-AUC: {average_roc_auc_gd:.3f}\")\n",
        "print(f\"Среднее время выполнения LogReg с градиентным спуском: {average_time_gd:.3f} секунд\")"
      ]
    },
    {
      "cell_type": "code",
      "execution_count": 15,
      "metadata": {
        "colab": {
          "base_uri": "https://localhost:8080/"
        },
        "id": "_3YogRrYwCjm",
        "outputId": "6ed58e7a-a249-498f-ef3c-54da34935692"
      },
      "outputs": [
        {
          "name": "stderr",
          "output_type": "stream",
          "text": [
            "100%|██████████| 1000/1000 [00:36<00:00, 27.69it/s]"
          ]
        },
        {
          "name": "stdout",
          "output_type": "stream",
          "text": [
            "SGD ROC-AUC: 0.498\n",
            "Среднее время выполнения LogReg со стохастическим градиентным спуском: 0.015 секунд\n"
          ]
        },
        {
          "name": "stderr",
          "output_type": "stream",
          "text": [
            "\n"
          ]
        }
      ],
      "source": [
        "time_sgd = []\n",
        "roc_auc_scores_sgd = []\n",
        "\n",
        "# С SGD, напротив, можно разгуляться :)\n",
        "for i in tqdm(range(1000)):\n",
        "    # Создаем модель с SGD\n",
        "    logreg_sgd = LogReg(gd_type='stochastic', max_iter=1000, tolerance=1e-6, eta=0.01)\n",
        "\n",
        "    start_time = time.time()\n",
        "    logreg_sgd.fit(X_train, y_train)\n",
        "    end_time = time.time()\n",
        "    sgd_time = end_time - start_time\n",
        "    time_sgd.append(sgd_time)\n",
        "\n",
        "    # Вычисляем ROC-AUC на тесте\n",
        "    y_prob_sgd = logreg_sgd.predict_proba(X_test)\n",
        "    roc_auc_sgd = roc_auc_score(y_test, y_prob_sgd)\n",
        "    roc_auc_scores_sgd.append(roc_auc_sgd)\n",
        "\n",
        "# Усредняем\n",
        "average_time_sgd = sum(time_sgd) / len(time_sgd)\n",
        "average_roc_auc_sgd = sum(roc_auc_scores_sgd) / len(roc_auc_scores_sgd)\n",
        "\n",
        "print(f\"SGD ROC-AUC: {average_roc_auc_sgd:.3f}\")\n",
        "print(f\"Среднее время выполнения LogReg со стохастическим градиентным спуском: {average_time_sgd:.3f} секунд\")"
      ]
    },
    {
      "cell_type": "markdown",
      "metadata": {
        "id": "LH41RI10wCjm"
      },
      "source": [
        "**Задание 6 (0.5 балла).** Закодируйте все категориальные признаки с помощью one-hot-кодирования. Обучите логистическую регрессию и посмотрите, как изменилось качество модели (с тем, что было до кодирования). Измерьте время, потребовавшееся на обучение модели."
      ]
    },
    {
      "cell_type": "code",
      "execution_count": 80,
      "metadata": {
        "id": "mpH6NceYwCjm"
      },
      "outputs": [],
      "source": [
        "X_train, X_test, y_train, y_test = train_test_split(data, target, test_size=0.5)"
      ]
    },
    {
      "cell_type": "code",
      "execution_count": 81,
      "metadata": {
        "id": "5Twvv23_wCjm"
      },
      "outputs": [],
      "source": [
        "X_train = X_train.reset_index(drop=True)\n",
        "X_test = X_test.reset_index(drop=True)"
      ]
    },
    {
      "cell_type": "code",
      "execution_count": 82,
      "metadata": {
        "colab": {
          "base_uri": "https://localhost:8080/",
          "height": 443
        },
        "id": "waXHh-fAwCjm",
        "outputId": "36740e89-37ff-47c5-c2d3-b13a9eb5a28b"
      },
      "outputs": [
        {
          "data": {
            "text/html": [
              "<div>\n",
              "<style scoped>\n",
              "    .dataframe tbody tr th:only-of-type {\n",
              "        vertical-align: middle;\n",
              "    }\n",
              "\n",
              "    .dataframe tbody tr th {\n",
              "        vertical-align: top;\n",
              "    }\n",
              "\n",
              "    .dataframe thead th {\n",
              "        text-align: right;\n",
              "    }\n",
              "</style>\n",
              "<table border=\"1\" class=\"dataframe\">\n",
              "  <thead>\n",
              "    <tr style=\"text-align: right;\">\n",
              "      <th></th>\n",
              "      <th>ps_ind_01</th>\n",
              "      <th>ps_ind_03</th>\n",
              "      <th>ps_ind_06_bin</th>\n",
              "      <th>ps_ind_07_bin</th>\n",
              "      <th>ps_ind_08_bin</th>\n",
              "      <th>ps_ind_09_bin</th>\n",
              "      <th>ps_ind_10_bin</th>\n",
              "      <th>ps_ind_11_bin</th>\n",
              "      <th>ps_ind_12_bin</th>\n",
              "      <th>ps_ind_13_bin</th>\n",
              "      <th>...</th>\n",
              "      <th>ps_car_11_cat_95</th>\n",
              "      <th>ps_car_11_cat_96</th>\n",
              "      <th>ps_car_11_cat_97</th>\n",
              "      <th>ps_car_11_cat_98</th>\n",
              "      <th>ps_car_11_cat_99</th>\n",
              "      <th>ps_car_11_cat_100</th>\n",
              "      <th>ps_car_11_cat_101</th>\n",
              "      <th>ps_car_11_cat_102</th>\n",
              "      <th>ps_car_11_cat_103</th>\n",
              "      <th>ps_car_11_cat_104</th>\n",
              "    </tr>\n",
              "  </thead>\n",
              "  <tbody>\n",
              "    <tr>\n",
              "      <th>0</th>\n",
              "      <td>0</td>\n",
              "      <td>6</td>\n",
              "      <td>0</td>\n",
              "      <td>1</td>\n",
              "      <td>0</td>\n",
              "      <td>0</td>\n",
              "      <td>0</td>\n",
              "      <td>0</td>\n",
              "      <td>0</td>\n",
              "      <td>0</td>\n",
              "      <td>...</td>\n",
              "      <td>0.0</td>\n",
              "      <td>0.0</td>\n",
              "      <td>0.0</td>\n",
              "      <td>0.0</td>\n",
              "      <td>0.0</td>\n",
              "      <td>0.0</td>\n",
              "      <td>0.0</td>\n",
              "      <td>0.0</td>\n",
              "      <td>0.0</td>\n",
              "      <td>0.0</td>\n",
              "    </tr>\n",
              "    <tr>\n",
              "      <th>1</th>\n",
              "      <td>1</td>\n",
              "      <td>2</td>\n",
              "      <td>1</td>\n",
              "      <td>0</td>\n",
              "      <td>0</td>\n",
              "      <td>0</td>\n",
              "      <td>0</td>\n",
              "      <td>0</td>\n",
              "      <td>0</td>\n",
              "      <td>0</td>\n",
              "      <td>...</td>\n",
              "      <td>0.0</td>\n",
              "      <td>0.0</td>\n",
              "      <td>0.0</td>\n",
              "      <td>0.0</td>\n",
              "      <td>0.0</td>\n",
              "      <td>0.0</td>\n",
              "      <td>0.0</td>\n",
              "      <td>0.0</td>\n",
              "      <td>0.0</td>\n",
              "      <td>0.0</td>\n",
              "    </tr>\n",
              "    <tr>\n",
              "      <th>2</th>\n",
              "      <td>2</td>\n",
              "      <td>6</td>\n",
              "      <td>1</td>\n",
              "      <td>0</td>\n",
              "      <td>0</td>\n",
              "      <td>0</td>\n",
              "      <td>0</td>\n",
              "      <td>0</td>\n",
              "      <td>0</td>\n",
              "      <td>0</td>\n",
              "      <td>...</td>\n",
              "      <td>0.0</td>\n",
              "      <td>0.0</td>\n",
              "      <td>0.0</td>\n",
              "      <td>0.0</td>\n",
              "      <td>0.0</td>\n",
              "      <td>0.0</td>\n",
              "      <td>0.0</td>\n",
              "      <td>0.0</td>\n",
              "      <td>0.0</td>\n",
              "      <td>0.0</td>\n",
              "    </tr>\n",
              "    <tr>\n",
              "      <th>3</th>\n",
              "      <td>5</td>\n",
              "      <td>3</td>\n",
              "      <td>1</td>\n",
              "      <td>0</td>\n",
              "      <td>0</td>\n",
              "      <td>0</td>\n",
              "      <td>0</td>\n",
              "      <td>0</td>\n",
              "      <td>0</td>\n",
              "      <td>0</td>\n",
              "      <td>...</td>\n",
              "      <td>0.0</td>\n",
              "      <td>0.0</td>\n",
              "      <td>0.0</td>\n",
              "      <td>0.0</td>\n",
              "      <td>0.0</td>\n",
              "      <td>0.0</td>\n",
              "      <td>0.0</td>\n",
              "      <td>0.0</td>\n",
              "      <td>0.0</td>\n",
              "      <td>0.0</td>\n",
              "    </tr>\n",
              "    <tr>\n",
              "      <th>4</th>\n",
              "      <td>0</td>\n",
              "      <td>1</td>\n",
              "      <td>0</td>\n",
              "      <td>1</td>\n",
              "      <td>0</td>\n",
              "      <td>0</td>\n",
              "      <td>0</td>\n",
              "      <td>0</td>\n",
              "      <td>0</td>\n",
              "      <td>0</td>\n",
              "      <td>...</td>\n",
              "      <td>0.0</td>\n",
              "      <td>0.0</td>\n",
              "      <td>0.0</td>\n",
              "      <td>0.0</td>\n",
              "      <td>0.0</td>\n",
              "      <td>0.0</td>\n",
              "      <td>0.0</td>\n",
              "      <td>0.0</td>\n",
              "      <td>0.0</td>\n",
              "      <td>0.0</td>\n",
              "    </tr>\n",
              "    <tr>\n",
              "      <th>...</th>\n",
              "      <td>...</td>\n",
              "      <td>...</td>\n",
              "      <td>...</td>\n",
              "      <td>...</td>\n",
              "      <td>...</td>\n",
              "      <td>...</td>\n",
              "      <td>...</td>\n",
              "      <td>...</td>\n",
              "      <td>...</td>\n",
              "      <td>...</td>\n",
              "      <td>...</td>\n",
              "      <td>...</td>\n",
              "      <td>...</td>\n",
              "      <td>...</td>\n",
              "      <td>...</td>\n",
              "      <td>...</td>\n",
              "      <td>...</td>\n",
              "      <td>...</td>\n",
              "      <td>...</td>\n",
              "      <td>...</td>\n",
              "      <td>...</td>\n",
              "    </tr>\n",
              "    <tr>\n",
              "      <th>297601</th>\n",
              "      <td>1</td>\n",
              "      <td>4</td>\n",
              "      <td>1</td>\n",
              "      <td>0</td>\n",
              "      <td>0</td>\n",
              "      <td>0</td>\n",
              "      <td>0</td>\n",
              "      <td>0</td>\n",
              "      <td>0</td>\n",
              "      <td>0</td>\n",
              "      <td>...</td>\n",
              "      <td>0.0</td>\n",
              "      <td>0.0</td>\n",
              "      <td>0.0</td>\n",
              "      <td>0.0</td>\n",
              "      <td>0.0</td>\n",
              "      <td>0.0</td>\n",
              "      <td>0.0</td>\n",
              "      <td>0.0</td>\n",
              "      <td>0.0</td>\n",
              "      <td>0.0</td>\n",
              "    </tr>\n",
              "    <tr>\n",
              "      <th>297602</th>\n",
              "      <td>5</td>\n",
              "      <td>2</td>\n",
              "      <td>0</td>\n",
              "      <td>1</td>\n",
              "      <td>0</td>\n",
              "      <td>0</td>\n",
              "      <td>0</td>\n",
              "      <td>0</td>\n",
              "      <td>0</td>\n",
              "      <td>0</td>\n",
              "      <td>...</td>\n",
              "      <td>0.0</td>\n",
              "      <td>0.0</td>\n",
              "      <td>0.0</td>\n",
              "      <td>0.0</td>\n",
              "      <td>0.0</td>\n",
              "      <td>0.0</td>\n",
              "      <td>0.0</td>\n",
              "      <td>0.0</td>\n",
              "      <td>0.0</td>\n",
              "      <td>0.0</td>\n",
              "    </tr>\n",
              "    <tr>\n",
              "      <th>297603</th>\n",
              "      <td>0</td>\n",
              "      <td>5</td>\n",
              "      <td>1</td>\n",
              "      <td>0</td>\n",
              "      <td>0</td>\n",
              "      <td>0</td>\n",
              "      <td>0</td>\n",
              "      <td>0</td>\n",
              "      <td>0</td>\n",
              "      <td>0</td>\n",
              "      <td>...</td>\n",
              "      <td>0.0</td>\n",
              "      <td>0.0</td>\n",
              "      <td>0.0</td>\n",
              "      <td>0.0</td>\n",
              "      <td>0.0</td>\n",
              "      <td>0.0</td>\n",
              "      <td>0.0</td>\n",
              "      <td>0.0</td>\n",
              "      <td>0.0</td>\n",
              "      <td>0.0</td>\n",
              "    </tr>\n",
              "    <tr>\n",
              "      <th>297604</th>\n",
              "      <td>0</td>\n",
              "      <td>8</td>\n",
              "      <td>1</td>\n",
              "      <td>0</td>\n",
              "      <td>0</td>\n",
              "      <td>0</td>\n",
              "      <td>0</td>\n",
              "      <td>0</td>\n",
              "      <td>0</td>\n",
              "      <td>0</td>\n",
              "      <td>...</td>\n",
              "      <td>0.0</td>\n",
              "      <td>0.0</td>\n",
              "      <td>0.0</td>\n",
              "      <td>0.0</td>\n",
              "      <td>0.0</td>\n",
              "      <td>0.0</td>\n",
              "      <td>0.0</td>\n",
              "      <td>0.0</td>\n",
              "      <td>0.0</td>\n",
              "      <td>0.0</td>\n",
              "    </tr>\n",
              "    <tr>\n",
              "      <th>297605</th>\n",
              "      <td>1</td>\n",
              "      <td>5</td>\n",
              "      <td>0</td>\n",
              "      <td>0</td>\n",
              "      <td>0</td>\n",
              "      <td>1</td>\n",
              "      <td>0</td>\n",
              "      <td>0</td>\n",
              "      <td>0</td>\n",
              "      <td>0</td>\n",
              "      <td>...</td>\n",
              "      <td>0.0</td>\n",
              "      <td>0.0</td>\n",
              "      <td>0.0</td>\n",
              "      <td>0.0</td>\n",
              "      <td>0.0</td>\n",
              "      <td>0.0</td>\n",
              "      <td>0.0</td>\n",
              "      <td>0.0</td>\n",
              "      <td>1.0</td>\n",
              "      <td>0.0</td>\n",
              "    </tr>\n",
              "  </tbody>\n",
              "</table>\n",
              "<p>297606 rows × 213 columns</p>\n",
              "</div>"
            ],
            "text/plain": [
              "        ps_ind_01  ps_ind_03  ps_ind_06_bin  ps_ind_07_bin  ps_ind_08_bin  \\\n",
              "0               0          6              0              1              0   \n",
              "1               1          2              1              0              0   \n",
              "2               2          6              1              0              0   \n",
              "3               5          3              1              0              0   \n",
              "4               0          1              0              1              0   \n",
              "...           ...        ...            ...            ...            ...   \n",
              "297601          1          4              1              0              0   \n",
              "297602          5          2              0              1              0   \n",
              "297603          0          5              1              0              0   \n",
              "297604          0          8              1              0              0   \n",
              "297605          1          5              0              0              0   \n",
              "\n",
              "        ps_ind_09_bin  ps_ind_10_bin  ps_ind_11_bin  ps_ind_12_bin  \\\n",
              "0                   0              0              0              0   \n",
              "1                   0              0              0              0   \n",
              "2                   0              0              0              0   \n",
              "3                   0              0              0              0   \n",
              "4                   0              0              0              0   \n",
              "...               ...            ...            ...            ...   \n",
              "297601              0              0              0              0   \n",
              "297602              0              0              0              0   \n",
              "297603              0              0              0              0   \n",
              "297604              0              0              0              0   \n",
              "297605              1              0              0              0   \n",
              "\n",
              "        ps_ind_13_bin  ...  ps_car_11_cat_95  ps_car_11_cat_96  \\\n",
              "0                   0  ...               0.0               0.0   \n",
              "1                   0  ...               0.0               0.0   \n",
              "2                   0  ...               0.0               0.0   \n",
              "3                   0  ...               0.0               0.0   \n",
              "4                   0  ...               0.0               0.0   \n",
              "...               ...  ...               ...               ...   \n",
              "297601              0  ...               0.0               0.0   \n",
              "297602              0  ...               0.0               0.0   \n",
              "297603              0  ...               0.0               0.0   \n",
              "297604              0  ...               0.0               0.0   \n",
              "297605              0  ...               0.0               0.0   \n",
              "\n",
              "        ps_car_11_cat_97  ps_car_11_cat_98  ps_car_11_cat_99  \\\n",
              "0                    0.0               0.0               0.0   \n",
              "1                    0.0               0.0               0.0   \n",
              "2                    0.0               0.0               0.0   \n",
              "3                    0.0               0.0               0.0   \n",
              "4                    0.0               0.0               0.0   \n",
              "...                  ...               ...               ...   \n",
              "297601               0.0               0.0               0.0   \n",
              "297602               0.0               0.0               0.0   \n",
              "297603               0.0               0.0               0.0   \n",
              "297604               0.0               0.0               0.0   \n",
              "297605               0.0               0.0               0.0   \n",
              "\n",
              "        ps_car_11_cat_100  ps_car_11_cat_101  ps_car_11_cat_102  \\\n",
              "0                     0.0                0.0                0.0   \n",
              "1                     0.0                0.0                0.0   \n",
              "2                     0.0                0.0                0.0   \n",
              "3                     0.0                0.0                0.0   \n",
              "4                     0.0                0.0                0.0   \n",
              "...                   ...                ...                ...   \n",
              "297601                0.0                0.0                0.0   \n",
              "297602                0.0                0.0                0.0   \n",
              "297603                0.0                0.0                0.0   \n",
              "297604                0.0                0.0                0.0   \n",
              "297605                0.0                0.0                0.0   \n",
              "\n",
              "        ps_car_11_cat_103  ps_car_11_cat_104  \n",
              "0                     0.0                0.0  \n",
              "1                     0.0                0.0  \n",
              "2                     0.0                0.0  \n",
              "3                     0.0                0.0  \n",
              "4                     0.0                0.0  \n",
              "...                   ...                ...  \n",
              "297601                0.0                0.0  \n",
              "297602                0.0                0.0  \n",
              "297603                0.0                0.0  \n",
              "297604                0.0                0.0  \n",
              "297605                1.0                0.0  \n",
              "\n",
              "[297606 rows x 213 columns]"
            ]
          },
          "execution_count": 82,
          "metadata": {},
          "output_type": "execute_result"
        }
      ],
      "source": [
        "### ╰( ͡° ͜ʖ ͡° )つ──☆*:・ﾟ\n",
        "from sklearn.preprocessing import OneHotEncoder\n",
        "\n",
        "cat_columns = ['ps_ind_02_cat', 'ps_ind_04_cat',\n",
        "                'ps_ind_05_cat', 'ps_car_01_cat', 'ps_car_02_cat',\n",
        "                'ps_car_03_cat', 'ps_car_04_cat', 'ps_car_05_cat',\n",
        "                'ps_car_06_cat', 'ps_car_07_cat', 'ps_car_08_cat',\n",
        "                'ps_car_09_cat', 'ps_car_10_cat', 'ps_car_11_cat']\n",
        "\n",
        "enc = OneHotEncoder(drop='first')\n",
        "encoded_train = enc.fit_transform(X_train[cat_columns]).toarray()\n",
        "encoded_train = pd.DataFrame(encoded_train, columns=enc.get_feature_names_out())\n",
        "X_train = pd.concat([X_train, encoded_train], axis=1).drop(columns=cat_columns)\n",
        "\n",
        "X_train"
      ]
    },
    {
      "cell_type": "code",
      "execution_count": 83,
      "metadata": {
        "colab": {
          "base_uri": "https://localhost:8080/",
          "height": 443
        },
        "id": "TywQqe9IwCjn",
        "outputId": "d100d5e1-527d-429d-e7d0-22972a8cc524"
      },
      "outputs": [
        {
          "data": {
            "text/html": [
              "<div>\n",
              "<style scoped>\n",
              "    .dataframe tbody tr th:only-of-type {\n",
              "        vertical-align: middle;\n",
              "    }\n",
              "\n",
              "    .dataframe tbody tr th {\n",
              "        vertical-align: top;\n",
              "    }\n",
              "\n",
              "    .dataframe thead th {\n",
              "        text-align: right;\n",
              "    }\n",
              "</style>\n",
              "<table border=\"1\" class=\"dataframe\">\n",
              "  <thead>\n",
              "    <tr style=\"text-align: right;\">\n",
              "      <th></th>\n",
              "      <th>ps_ind_01</th>\n",
              "      <th>ps_ind_03</th>\n",
              "      <th>ps_ind_06_bin</th>\n",
              "      <th>ps_ind_07_bin</th>\n",
              "      <th>ps_ind_08_bin</th>\n",
              "      <th>ps_ind_09_bin</th>\n",
              "      <th>ps_ind_10_bin</th>\n",
              "      <th>ps_ind_11_bin</th>\n",
              "      <th>ps_ind_12_bin</th>\n",
              "      <th>ps_ind_13_bin</th>\n",
              "      <th>...</th>\n",
              "      <th>ps_car_11_cat_95</th>\n",
              "      <th>ps_car_11_cat_96</th>\n",
              "      <th>ps_car_11_cat_97</th>\n",
              "      <th>ps_car_11_cat_98</th>\n",
              "      <th>ps_car_11_cat_99</th>\n",
              "      <th>ps_car_11_cat_100</th>\n",
              "      <th>ps_car_11_cat_101</th>\n",
              "      <th>ps_car_11_cat_102</th>\n",
              "      <th>ps_car_11_cat_103</th>\n",
              "      <th>ps_car_11_cat_104</th>\n",
              "    </tr>\n",
              "  </thead>\n",
              "  <tbody>\n",
              "    <tr>\n",
              "      <th>0</th>\n",
              "      <td>0</td>\n",
              "      <td>3</td>\n",
              "      <td>0</td>\n",
              "      <td>0</td>\n",
              "      <td>0</td>\n",
              "      <td>1</td>\n",
              "      <td>0</td>\n",
              "      <td>0</td>\n",
              "      <td>0</td>\n",
              "      <td>0</td>\n",
              "      <td>...</td>\n",
              "      <td>0.0</td>\n",
              "      <td>0.0</td>\n",
              "      <td>0.0</td>\n",
              "      <td>0.0</td>\n",
              "      <td>0.0</td>\n",
              "      <td>0.0</td>\n",
              "      <td>0.0</td>\n",
              "      <td>0.0</td>\n",
              "      <td>0.0</td>\n",
              "      <td>0.0</td>\n",
              "    </tr>\n",
              "    <tr>\n",
              "      <th>1</th>\n",
              "      <td>0</td>\n",
              "      <td>8</td>\n",
              "      <td>1</td>\n",
              "      <td>0</td>\n",
              "      <td>0</td>\n",
              "      <td>0</td>\n",
              "      <td>0</td>\n",
              "      <td>0</td>\n",
              "      <td>0</td>\n",
              "      <td>0</td>\n",
              "      <td>...</td>\n",
              "      <td>0.0</td>\n",
              "      <td>0.0</td>\n",
              "      <td>0.0</td>\n",
              "      <td>0.0</td>\n",
              "      <td>0.0</td>\n",
              "      <td>0.0</td>\n",
              "      <td>0.0</td>\n",
              "      <td>0.0</td>\n",
              "      <td>0.0</td>\n",
              "      <td>0.0</td>\n",
              "    </tr>\n",
              "    <tr>\n",
              "      <th>2</th>\n",
              "      <td>1</td>\n",
              "      <td>3</td>\n",
              "      <td>1</td>\n",
              "      <td>0</td>\n",
              "      <td>0</td>\n",
              "      <td>0</td>\n",
              "      <td>0</td>\n",
              "      <td>0</td>\n",
              "      <td>0</td>\n",
              "      <td>0</td>\n",
              "      <td>...</td>\n",
              "      <td>0.0</td>\n",
              "      <td>0.0</td>\n",
              "      <td>0.0</td>\n",
              "      <td>0.0</td>\n",
              "      <td>0.0</td>\n",
              "      <td>0.0</td>\n",
              "      <td>0.0</td>\n",
              "      <td>0.0</td>\n",
              "      <td>0.0</td>\n",
              "      <td>0.0</td>\n",
              "    </tr>\n",
              "    <tr>\n",
              "      <th>3</th>\n",
              "      <td>0</td>\n",
              "      <td>1</td>\n",
              "      <td>1</td>\n",
              "      <td>0</td>\n",
              "      <td>0</td>\n",
              "      <td>0</td>\n",
              "      <td>0</td>\n",
              "      <td>0</td>\n",
              "      <td>0</td>\n",
              "      <td>0</td>\n",
              "      <td>...</td>\n",
              "      <td>0.0</td>\n",
              "      <td>0.0</td>\n",
              "      <td>0.0</td>\n",
              "      <td>0.0</td>\n",
              "      <td>0.0</td>\n",
              "      <td>0.0</td>\n",
              "      <td>0.0</td>\n",
              "      <td>0.0</td>\n",
              "      <td>1.0</td>\n",
              "      <td>0.0</td>\n",
              "    </tr>\n",
              "    <tr>\n",
              "      <th>4</th>\n",
              "      <td>5</td>\n",
              "      <td>7</td>\n",
              "      <td>0</td>\n",
              "      <td>0</td>\n",
              "      <td>0</td>\n",
              "      <td>1</td>\n",
              "      <td>0</td>\n",
              "      <td>0</td>\n",
              "      <td>0</td>\n",
              "      <td>0</td>\n",
              "      <td>...</td>\n",
              "      <td>0.0</td>\n",
              "      <td>0.0</td>\n",
              "      <td>0.0</td>\n",
              "      <td>0.0</td>\n",
              "      <td>0.0</td>\n",
              "      <td>0.0</td>\n",
              "      <td>0.0</td>\n",
              "      <td>0.0</td>\n",
              "      <td>0.0</td>\n",
              "      <td>0.0</td>\n",
              "    </tr>\n",
              "    <tr>\n",
              "      <th>...</th>\n",
              "      <td>...</td>\n",
              "      <td>...</td>\n",
              "      <td>...</td>\n",
              "      <td>...</td>\n",
              "      <td>...</td>\n",
              "      <td>...</td>\n",
              "      <td>...</td>\n",
              "      <td>...</td>\n",
              "      <td>...</td>\n",
              "      <td>...</td>\n",
              "      <td>...</td>\n",
              "      <td>...</td>\n",
              "      <td>...</td>\n",
              "      <td>...</td>\n",
              "      <td>...</td>\n",
              "      <td>...</td>\n",
              "      <td>...</td>\n",
              "      <td>...</td>\n",
              "      <td>...</td>\n",
              "      <td>...</td>\n",
              "      <td>...</td>\n",
              "    </tr>\n",
              "    <tr>\n",
              "      <th>297601</th>\n",
              "      <td>0</td>\n",
              "      <td>2</td>\n",
              "      <td>1</td>\n",
              "      <td>0</td>\n",
              "      <td>0</td>\n",
              "      <td>0</td>\n",
              "      <td>0</td>\n",
              "      <td>0</td>\n",
              "      <td>0</td>\n",
              "      <td>0</td>\n",
              "      <td>...</td>\n",
              "      <td>0.0</td>\n",
              "      <td>0.0</td>\n",
              "      <td>0.0</td>\n",
              "      <td>0.0</td>\n",
              "      <td>0.0</td>\n",
              "      <td>0.0</td>\n",
              "      <td>0.0</td>\n",
              "      <td>0.0</td>\n",
              "      <td>0.0</td>\n",
              "      <td>0.0</td>\n",
              "    </tr>\n",
              "    <tr>\n",
              "      <th>297602</th>\n",
              "      <td>1</td>\n",
              "      <td>1</td>\n",
              "      <td>0</td>\n",
              "      <td>1</td>\n",
              "      <td>0</td>\n",
              "      <td>0</td>\n",
              "      <td>0</td>\n",
              "      <td>0</td>\n",
              "      <td>0</td>\n",
              "      <td>0</td>\n",
              "      <td>...</td>\n",
              "      <td>0.0</td>\n",
              "      <td>0.0</td>\n",
              "      <td>0.0</td>\n",
              "      <td>0.0</td>\n",
              "      <td>0.0</td>\n",
              "      <td>0.0</td>\n",
              "      <td>0.0</td>\n",
              "      <td>0.0</td>\n",
              "      <td>0.0</td>\n",
              "      <td>0.0</td>\n",
              "    </tr>\n",
              "    <tr>\n",
              "      <th>297603</th>\n",
              "      <td>4</td>\n",
              "      <td>8</td>\n",
              "      <td>0</td>\n",
              "      <td>0</td>\n",
              "      <td>0</td>\n",
              "      <td>1</td>\n",
              "      <td>0</td>\n",
              "      <td>0</td>\n",
              "      <td>0</td>\n",
              "      <td>0</td>\n",
              "      <td>...</td>\n",
              "      <td>0.0</td>\n",
              "      <td>0.0</td>\n",
              "      <td>0.0</td>\n",
              "      <td>0.0</td>\n",
              "      <td>0.0</td>\n",
              "      <td>0.0</td>\n",
              "      <td>0.0</td>\n",
              "      <td>0.0</td>\n",
              "      <td>0.0</td>\n",
              "      <td>1.0</td>\n",
              "    </tr>\n",
              "    <tr>\n",
              "      <th>297604</th>\n",
              "      <td>1</td>\n",
              "      <td>4</td>\n",
              "      <td>1</td>\n",
              "      <td>0</td>\n",
              "      <td>0</td>\n",
              "      <td>0</td>\n",
              "      <td>0</td>\n",
              "      <td>0</td>\n",
              "      <td>0</td>\n",
              "      <td>0</td>\n",
              "      <td>...</td>\n",
              "      <td>0.0</td>\n",
              "      <td>0.0</td>\n",
              "      <td>0.0</td>\n",
              "      <td>0.0</td>\n",
              "      <td>0.0</td>\n",
              "      <td>0.0</td>\n",
              "      <td>0.0</td>\n",
              "      <td>0.0</td>\n",
              "      <td>0.0</td>\n",
              "      <td>0.0</td>\n",
              "    </tr>\n",
              "    <tr>\n",
              "      <th>297605</th>\n",
              "      <td>3</td>\n",
              "      <td>3</td>\n",
              "      <td>1</td>\n",
              "      <td>0</td>\n",
              "      <td>0</td>\n",
              "      <td>0</td>\n",
              "      <td>0</td>\n",
              "      <td>0</td>\n",
              "      <td>0</td>\n",
              "      <td>0</td>\n",
              "      <td>...</td>\n",
              "      <td>0.0</td>\n",
              "      <td>0.0</td>\n",
              "      <td>0.0</td>\n",
              "      <td>0.0</td>\n",
              "      <td>0.0</td>\n",
              "      <td>0.0</td>\n",
              "      <td>0.0</td>\n",
              "      <td>0.0</td>\n",
              "      <td>0.0</td>\n",
              "      <td>0.0</td>\n",
              "    </tr>\n",
              "  </tbody>\n",
              "</table>\n",
              "<p>297606 rows × 213 columns</p>\n",
              "</div>"
            ],
            "text/plain": [
              "        ps_ind_01  ps_ind_03  ps_ind_06_bin  ps_ind_07_bin  ps_ind_08_bin  \\\n",
              "0               0          3              0              0              0   \n",
              "1               0          8              1              0              0   \n",
              "2               1          3              1              0              0   \n",
              "3               0          1              1              0              0   \n",
              "4               5          7              0              0              0   \n",
              "...           ...        ...            ...            ...            ...   \n",
              "297601          0          2              1              0              0   \n",
              "297602          1          1              0              1              0   \n",
              "297603          4          8              0              0              0   \n",
              "297604          1          4              1              0              0   \n",
              "297605          3          3              1              0              0   \n",
              "\n",
              "        ps_ind_09_bin  ps_ind_10_bin  ps_ind_11_bin  ps_ind_12_bin  \\\n",
              "0                   1              0              0              0   \n",
              "1                   0              0              0              0   \n",
              "2                   0              0              0              0   \n",
              "3                   0              0              0              0   \n",
              "4                   1              0              0              0   \n",
              "...               ...            ...            ...            ...   \n",
              "297601              0              0              0              0   \n",
              "297602              0              0              0              0   \n",
              "297603              1              0              0              0   \n",
              "297604              0              0              0              0   \n",
              "297605              0              0              0              0   \n",
              "\n",
              "        ps_ind_13_bin  ...  ps_car_11_cat_95  ps_car_11_cat_96  \\\n",
              "0                   0  ...               0.0               0.0   \n",
              "1                   0  ...               0.0               0.0   \n",
              "2                   0  ...               0.0               0.0   \n",
              "3                   0  ...               0.0               0.0   \n",
              "4                   0  ...               0.0               0.0   \n",
              "...               ...  ...               ...               ...   \n",
              "297601              0  ...               0.0               0.0   \n",
              "297602              0  ...               0.0               0.0   \n",
              "297603              0  ...               0.0               0.0   \n",
              "297604              0  ...               0.0               0.0   \n",
              "297605              0  ...               0.0               0.0   \n",
              "\n",
              "        ps_car_11_cat_97  ps_car_11_cat_98  ps_car_11_cat_99  \\\n",
              "0                    0.0               0.0               0.0   \n",
              "1                    0.0               0.0               0.0   \n",
              "2                    0.0               0.0               0.0   \n",
              "3                    0.0               0.0               0.0   \n",
              "4                    0.0               0.0               0.0   \n",
              "...                  ...               ...               ...   \n",
              "297601               0.0               0.0               0.0   \n",
              "297602               0.0               0.0               0.0   \n",
              "297603               0.0               0.0               0.0   \n",
              "297604               0.0               0.0               0.0   \n",
              "297605               0.0               0.0               0.0   \n",
              "\n",
              "        ps_car_11_cat_100  ps_car_11_cat_101  ps_car_11_cat_102  \\\n",
              "0                     0.0                0.0                0.0   \n",
              "1                     0.0                0.0                0.0   \n",
              "2                     0.0                0.0                0.0   \n",
              "3                     0.0                0.0                0.0   \n",
              "4                     0.0                0.0                0.0   \n",
              "...                   ...                ...                ...   \n",
              "297601                0.0                0.0                0.0   \n",
              "297602                0.0                0.0                0.0   \n",
              "297603                0.0                0.0                0.0   \n",
              "297604                0.0                0.0                0.0   \n",
              "297605                0.0                0.0                0.0   \n",
              "\n",
              "        ps_car_11_cat_103  ps_car_11_cat_104  \n",
              "0                     0.0                0.0  \n",
              "1                     0.0                0.0  \n",
              "2                     0.0                0.0  \n",
              "3                     1.0                0.0  \n",
              "4                     0.0                0.0  \n",
              "...                   ...                ...  \n",
              "297601                0.0                0.0  \n",
              "297602                0.0                0.0  \n",
              "297603                0.0                1.0  \n",
              "297604                0.0                0.0  \n",
              "297605                0.0                0.0  \n",
              "\n",
              "[297606 rows x 213 columns]"
            ]
          },
          "execution_count": 83,
          "metadata": {},
          "output_type": "execute_result"
        }
      ],
      "source": [
        "encoded_test = enc.transform(X_test[cat_columns]).toarray()\n",
        "encoded_test = pd.DataFrame(encoded_test, columns=enc.get_feature_names_out())\n",
        "X_test = pd.concat([X_test, encoded_test], axis=1).drop(columns=cat_columns)\n",
        "X_test"
      ]
    },
    {
      "cell_type": "code",
      "execution_count": 84,
      "metadata": {
        "id": "OEaj9Le2wCjn"
      },
      "outputs": [],
      "source": [
        "X_train = np.array(X_train)\n",
        "X_test = np.array(X_test)\n",
        "y_train = np.array(y_train)\n",
        "y_test = np.array(y_test)"
      ]
    },
    {
      "cell_type": "markdown",
      "metadata": {},
      "source": [
        "Такое количество признаков считается кратно дольше, поэтому поднимем скорость обучения на порядок"
      ]
    },
    {
      "cell_type": "code",
      "execution_count": 21,
      "metadata": {
        "colab": {
          "base_uri": "https://localhost:8080/"
        },
        "id": "4cCbIoRywCjn",
        "outputId": "19770636-329b-4345-9e70-34550b541925"
      },
      "outputs": [
        {
          "name": "stderr",
          "output_type": "stream",
          "text": [
            "100%|██████████| 10/10 [03:06<00:00, 18.69s/it]"
          ]
        },
        {
          "name": "stdout",
          "output_type": "stream",
          "text": [
            "GD ROC-AUC: 0.614\n",
            "Среднее время выполнения LogReg с градиентным спуском: 18.662 секунд\n"
          ]
        },
        {
          "name": "stderr",
          "output_type": "stream",
          "text": [
            "\n"
          ]
        }
      ],
      "source": [
        "from tqdm import tqdm\n",
        "\n",
        "time_gd = []\n",
        "roc_auc_scores_gd = []\n",
        "\n",
        "for i in tqdm(range(10)):\n",
        "    # Создаем модель с GD\n",
        "    logreg_gd = LogReg(gd_type='full', max_iter=1000, tolerance=1e-6, eta=0.1)\n",
        "\n",
        "    start_time = time.time()\n",
        "    logreg_gd.fit(X_train, y_train)\n",
        "    end_time = time.time()\n",
        "    sgd_time = end_time - start_time\n",
        "    time_gd.append(sgd_time)\n",
        "\n",
        "    # Вычисляем ROC-AUC\n",
        "    y_prob_gd = logreg_gd.predict_proba(X_test)\n",
        "    roc_auc_gd = roc_auc_score(y_test, y_prob_gd)\n",
        "    roc_auc_scores_gd.append(roc_auc_gd)\n",
        "\n",
        "# Усредняем\n",
        "average_time_gd = sum(time_gd) / len(time_gd)\n",
        "average_roc_auc_gd = sum(roc_auc_scores_gd) / len(roc_auc_scores_gd)\n",
        "\n",
        "print(f\"GD ROC-AUC: {average_roc_auc_gd:.3f}\")\n",
        "print(f\"Среднее время выполнения LogReg с градиентным спуском: {average_time_gd:.3f} секунд\")"
      ]
    },
    {
      "cell_type": "code",
      "execution_count": 85,
      "metadata": {
        "colab": {
          "base_uri": "https://localhost:8080/"
        },
        "id": "2Np7U3e8wCjn",
        "outputId": "17cbae3d-fcfd-41ef-e8ea-57e30517add2"
      },
      "outputs": [
        {
          "name": "stderr",
          "output_type": "stream",
          "text": [
            "100%|██████████| 100/100 [00:13<00:00,  7.39it/s]"
          ]
        },
        {
          "name": "stdout",
          "output_type": "stream",
          "text": [
            "SGD ROC-AUC: 0.507\n",
            "Среднее время выполнения LogReg со стохастическим градиентным спуском: 0.056 секунд\n"
          ]
        },
        {
          "name": "stderr",
          "output_type": "stream",
          "text": [
            "\n"
          ]
        }
      ],
      "source": [
        "time_sgd = []\n",
        "roc_auc_scores_sgd = []\n",
        "\n",
        "for i in tqdm(range(100)):\n",
        "    # Создаем модель с SGD\n",
        "    logreg_sgd = LogReg(gd_type='stochastic', max_iter=1000, tolerance=1e-6, eta=0.1)\n",
        "\n",
        "    start_time = time.time()\n",
        "    logreg_sgd.fit(X_train, y_train)\n",
        "    end_time = time.time()\n",
        "    sgd_time = end_time - start_time\n",
        "    time_sgd.append(sgd_time)\n",
        "\n",
        "    # Вычисляем ROC-AUC\n",
        "    y_prob_sgd = logreg_sgd.predict_proba(X_test)\n",
        "    roc_auc_sgd = roc_auc_score(y_test, y_prob_sgd)\n",
        "    roc_auc_scores_sgd.append(roc_auc_sgd)\n",
        "\n",
        "# Усредняем\n",
        "average_time_sgd = sum(time_sgd) / len(time_sgd)\n",
        "average_roc_auc_sgd = sum(roc_auc_scores_sgd) / len(roc_auc_scores_sgd)\n",
        "\n",
        "print(f\"SGD ROC-AUC: {average_roc_auc_sgd:.3f}\")\n",
        "print(f\"Среднее время выполнения LogReg со стохастическим градиентным спуском: {average_time_sgd:.3f} секунд\")"
      ]
    },
    {
      "cell_type": "markdown",
      "metadata": {
        "id": "yvLCeu7jwCjn"
      },
      "source": [
        "Как можно было заменить, one-hot-кодирование сильно увилечивает количество признаков в датасете, что сказывается на памяти, особенно, если некоторый признак имеет большое количество значений. Эту проблему решает другой способ кодирование категориальных признаков — счётчики. Основная идея в том, что нам важны не сами категории, а значения целевой переменной, которые имеют объекты этой категории. Каждый категориальный признак мы заменим средним значением целевой переменной по всем объектам этой же категории:\n",
        "$$\n",
        "g_j(x, X) = \\frac{\\sum_{i=1}^{l} [f_j(x) = f_j(x_i)][y_i = +1]}{\\sum_{i=1}^{l} [f_j(x) = f_j(x_i)]}\n",
        "$$\n",
        "\n",
        "__Задание 7 (1.5 балла).__ Закодируйте категориальные переменные с помощью счётчиков (ровно так, как описано выше, без каких-либо хитростей). Обучите логистическую регрессию и посмотрите на качество модели на тестовом множестве. Сравните время обучения с предыдущим экспериментом. Заметили ли вы что-то интересное?\n"
      ]
    },
    {
      "cell_type": "code",
      "execution_count": 86,
      "metadata": {
        "colab": {
          "base_uri": "https://localhost:8080/",
          "height": 443
        },
        "id": "WpHNYS02wCjs",
        "outputId": "0ede54a4-a394-4c48-8c55-7c2783d6bf33"
      },
      "outputs": [
        {
          "data": {
            "text/html": [
              "<div>\n",
              "<style scoped>\n",
              "    .dataframe tbody tr th:only-of-type {\n",
              "        vertical-align: middle;\n",
              "    }\n",
              "\n",
              "    .dataframe tbody tr th {\n",
              "        vertical-align: top;\n",
              "    }\n",
              "\n",
              "    .dataframe thead th {\n",
              "        text-align: right;\n",
              "    }\n",
              "</style>\n",
              "<table border=\"1\" class=\"dataframe\">\n",
              "  <thead>\n",
              "    <tr style=\"text-align: right;\">\n",
              "      <th></th>\n",
              "      <th>ps_ind_01</th>\n",
              "      <th>ps_ind_02_cat</th>\n",
              "      <th>ps_ind_03</th>\n",
              "      <th>ps_ind_04_cat</th>\n",
              "      <th>ps_ind_05_cat</th>\n",
              "      <th>ps_ind_06_bin</th>\n",
              "      <th>ps_ind_07_bin</th>\n",
              "      <th>ps_ind_08_bin</th>\n",
              "      <th>ps_ind_09_bin</th>\n",
              "      <th>ps_ind_10_bin</th>\n",
              "      <th>...</th>\n",
              "      <th>ps_calc_11</th>\n",
              "      <th>ps_calc_12</th>\n",
              "      <th>ps_calc_13</th>\n",
              "      <th>ps_calc_14</th>\n",
              "      <th>ps_calc_15_bin</th>\n",
              "      <th>ps_calc_16_bin</th>\n",
              "      <th>ps_calc_17_bin</th>\n",
              "      <th>ps_calc_18_bin</th>\n",
              "      <th>ps_calc_19_bin</th>\n",
              "      <th>ps_calc_20_bin</th>\n",
              "    </tr>\n",
              "  </thead>\n",
              "  <tbody>\n",
              "    <tr>\n",
              "      <th>0</th>\n",
              "      <td>1</td>\n",
              "      <td>1</td>\n",
              "      <td>5</td>\n",
              "      <td>0</td>\n",
              "      <td>0</td>\n",
              "      <td>0</td>\n",
              "      <td>0</td>\n",
              "      <td>1</td>\n",
              "      <td>0</td>\n",
              "      <td>0</td>\n",
              "      <td>...</td>\n",
              "      <td>2</td>\n",
              "      <td>0</td>\n",
              "      <td>4</td>\n",
              "      <td>9</td>\n",
              "      <td>0</td>\n",
              "      <td>0</td>\n",
              "      <td>1</td>\n",
              "      <td>0</td>\n",
              "      <td>0</td>\n",
              "      <td>0</td>\n",
              "    </tr>\n",
              "    <tr>\n",
              "      <th>1</th>\n",
              "      <td>0</td>\n",
              "      <td>1</td>\n",
              "      <td>6</td>\n",
              "      <td>0</td>\n",
              "      <td>0</td>\n",
              "      <td>0</td>\n",
              "      <td>0</td>\n",
              "      <td>0</td>\n",
              "      <td>1</td>\n",
              "      <td>0</td>\n",
              "      <td>...</td>\n",
              "      <td>6</td>\n",
              "      <td>2</td>\n",
              "      <td>3</td>\n",
              "      <td>3</td>\n",
              "      <td>0</td>\n",
              "      <td>0</td>\n",
              "      <td>1</td>\n",
              "      <td>0</td>\n",
              "      <td>1</td>\n",
              "      <td>0</td>\n",
              "    </tr>\n",
              "    <tr>\n",
              "      <th>2</th>\n",
              "      <td>2</td>\n",
              "      <td>2</td>\n",
              "      <td>1</td>\n",
              "      <td>1</td>\n",
              "      <td>-1</td>\n",
              "      <td>0</td>\n",
              "      <td>1</td>\n",
              "      <td>0</td>\n",
              "      <td>0</td>\n",
              "      <td>0</td>\n",
              "      <td>...</td>\n",
              "      <td>7</td>\n",
              "      <td>3</td>\n",
              "      <td>2</td>\n",
              "      <td>5</td>\n",
              "      <td>0</td>\n",
              "      <td>1</td>\n",
              "      <td>0</td>\n",
              "      <td>0</td>\n",
              "      <td>0</td>\n",
              "      <td>0</td>\n",
              "    </tr>\n",
              "    <tr>\n",
              "      <th>3</th>\n",
              "      <td>1</td>\n",
              "      <td>3</td>\n",
              "      <td>10</td>\n",
              "      <td>0</td>\n",
              "      <td>0</td>\n",
              "      <td>0</td>\n",
              "      <td>0</td>\n",
              "      <td>1</td>\n",
              "      <td>0</td>\n",
              "      <td>0</td>\n",
              "      <td>...</td>\n",
              "      <td>9</td>\n",
              "      <td>1</td>\n",
              "      <td>3</td>\n",
              "      <td>5</td>\n",
              "      <td>0</td>\n",
              "      <td>0</td>\n",
              "      <td>1</td>\n",
              "      <td>0</td>\n",
              "      <td>0</td>\n",
              "      <td>1</td>\n",
              "    </tr>\n",
              "    <tr>\n",
              "      <th>4</th>\n",
              "      <td>2</td>\n",
              "      <td>1</td>\n",
              "      <td>1</td>\n",
              "      <td>1</td>\n",
              "      <td>0</td>\n",
              "      <td>0</td>\n",
              "      <td>0</td>\n",
              "      <td>1</td>\n",
              "      <td>0</td>\n",
              "      <td>0</td>\n",
              "      <td>...</td>\n",
              "      <td>4</td>\n",
              "      <td>1</td>\n",
              "      <td>4</td>\n",
              "      <td>7</td>\n",
              "      <td>1</td>\n",
              "      <td>1</td>\n",
              "      <td>1</td>\n",
              "      <td>0</td>\n",
              "      <td>1</td>\n",
              "      <td>0</td>\n",
              "    </tr>\n",
              "    <tr>\n",
              "      <th>...</th>\n",
              "      <td>...</td>\n",
              "      <td>...</td>\n",
              "      <td>...</td>\n",
              "      <td>...</td>\n",
              "      <td>...</td>\n",
              "      <td>...</td>\n",
              "      <td>...</td>\n",
              "      <td>...</td>\n",
              "      <td>...</td>\n",
              "      <td>...</td>\n",
              "      <td>...</td>\n",
              "      <td>...</td>\n",
              "      <td>...</td>\n",
              "      <td>...</td>\n",
              "      <td>...</td>\n",
              "      <td>...</td>\n",
              "      <td>...</td>\n",
              "      <td>...</td>\n",
              "      <td>...</td>\n",
              "      <td>...</td>\n",
              "      <td>...</td>\n",
              "    </tr>\n",
              "    <tr>\n",
              "      <th>297601</th>\n",
              "      <td>3</td>\n",
              "      <td>1</td>\n",
              "      <td>2</td>\n",
              "      <td>1</td>\n",
              "      <td>0</td>\n",
              "      <td>0</td>\n",
              "      <td>0</td>\n",
              "      <td>0</td>\n",
              "      <td>1</td>\n",
              "      <td>0</td>\n",
              "      <td>...</td>\n",
              "      <td>6</td>\n",
              "      <td>0</td>\n",
              "      <td>3</td>\n",
              "      <td>15</td>\n",
              "      <td>0</td>\n",
              "      <td>1</td>\n",
              "      <td>0</td>\n",
              "      <td>1</td>\n",
              "      <td>0</td>\n",
              "      <td>0</td>\n",
              "    </tr>\n",
              "    <tr>\n",
              "      <th>297602</th>\n",
              "      <td>1</td>\n",
              "      <td>1</td>\n",
              "      <td>3</td>\n",
              "      <td>0</td>\n",
              "      <td>0</td>\n",
              "      <td>1</td>\n",
              "      <td>0</td>\n",
              "      <td>0</td>\n",
              "      <td>0</td>\n",
              "      <td>0</td>\n",
              "      <td>...</td>\n",
              "      <td>8</td>\n",
              "      <td>1</td>\n",
              "      <td>3</td>\n",
              "      <td>6</td>\n",
              "      <td>0</td>\n",
              "      <td>1</td>\n",
              "      <td>1</td>\n",
              "      <td>0</td>\n",
              "      <td>1</td>\n",
              "      <td>0</td>\n",
              "    </tr>\n",
              "    <tr>\n",
              "      <th>297603</th>\n",
              "      <td>5</td>\n",
              "      <td>4</td>\n",
              "      <td>9</td>\n",
              "      <td>1</td>\n",
              "      <td>0</td>\n",
              "      <td>0</td>\n",
              "      <td>0</td>\n",
              "      <td>0</td>\n",
              "      <td>1</td>\n",
              "      <td>0</td>\n",
              "      <td>...</td>\n",
              "      <td>3</td>\n",
              "      <td>0</td>\n",
              "      <td>7</td>\n",
              "      <td>6</td>\n",
              "      <td>1</td>\n",
              "      <td>1</td>\n",
              "      <td>1</td>\n",
              "      <td>1</td>\n",
              "      <td>0</td>\n",
              "      <td>0</td>\n",
              "    </tr>\n",
              "    <tr>\n",
              "      <th>297604</th>\n",
              "      <td>1</td>\n",
              "      <td>1</td>\n",
              "      <td>4</td>\n",
              "      <td>0</td>\n",
              "      <td>0</td>\n",
              "      <td>1</td>\n",
              "      <td>0</td>\n",
              "      <td>0</td>\n",
              "      <td>0</td>\n",
              "      <td>0</td>\n",
              "      <td>...</td>\n",
              "      <td>11</td>\n",
              "      <td>2</td>\n",
              "      <td>6</td>\n",
              "      <td>5</td>\n",
              "      <td>0</td>\n",
              "      <td>1</td>\n",
              "      <td>0</td>\n",
              "      <td>0</td>\n",
              "      <td>0</td>\n",
              "      <td>0</td>\n",
              "    </tr>\n",
              "    <tr>\n",
              "      <th>297605</th>\n",
              "      <td>2</td>\n",
              "      <td>1</td>\n",
              "      <td>6</td>\n",
              "      <td>0</td>\n",
              "      <td>4</td>\n",
              "      <td>0</td>\n",
              "      <td>1</td>\n",
              "      <td>0</td>\n",
              "      <td>0</td>\n",
              "      <td>0</td>\n",
              "      <td>...</td>\n",
              "      <td>7</td>\n",
              "      <td>0</td>\n",
              "      <td>3</td>\n",
              "      <td>12</td>\n",
              "      <td>0</td>\n",
              "      <td>0</td>\n",
              "      <td>1</td>\n",
              "      <td>0</td>\n",
              "      <td>0</td>\n",
              "      <td>0</td>\n",
              "    </tr>\n",
              "  </tbody>\n",
              "</table>\n",
              "<p>297606 rows × 57 columns</p>\n",
              "</div>"
            ],
            "text/plain": [
              "        ps_ind_01  ps_ind_02_cat  ps_ind_03  ps_ind_04_cat  ps_ind_05_cat  \\\n",
              "0               1              1          5              0              0   \n",
              "1               0              1          6              0              0   \n",
              "2               2              2          1              1             -1   \n",
              "3               1              3         10              0              0   \n",
              "4               2              1          1              1              0   \n",
              "...           ...            ...        ...            ...            ...   \n",
              "297601          3              1          2              1              0   \n",
              "297602          1              1          3              0              0   \n",
              "297603          5              4          9              1              0   \n",
              "297604          1              1          4              0              0   \n",
              "297605          2              1          6              0              4   \n",
              "\n",
              "        ps_ind_06_bin  ps_ind_07_bin  ps_ind_08_bin  ps_ind_09_bin  \\\n",
              "0                   0              0              1              0   \n",
              "1                   0              0              0              1   \n",
              "2                   0              1              0              0   \n",
              "3                   0              0              1              0   \n",
              "4                   0              0              1              0   \n",
              "...               ...            ...            ...            ...   \n",
              "297601              0              0              0              1   \n",
              "297602              1              0              0              0   \n",
              "297603              0              0              0              1   \n",
              "297604              1              0              0              0   \n",
              "297605              0              1              0              0   \n",
              "\n",
              "        ps_ind_10_bin  ...  ps_calc_11  ps_calc_12  ps_calc_13  ps_calc_14  \\\n",
              "0                   0  ...           2           0           4           9   \n",
              "1                   0  ...           6           2           3           3   \n",
              "2                   0  ...           7           3           2           5   \n",
              "3                   0  ...           9           1           3           5   \n",
              "4                   0  ...           4           1           4           7   \n",
              "...               ...  ...         ...         ...         ...         ...   \n",
              "297601              0  ...           6           0           3          15   \n",
              "297602              0  ...           8           1           3           6   \n",
              "297603              0  ...           3           0           7           6   \n",
              "297604              0  ...          11           2           6           5   \n",
              "297605              0  ...           7           0           3          12   \n",
              "\n",
              "        ps_calc_15_bin  ps_calc_16_bin  ps_calc_17_bin  ps_calc_18_bin  \\\n",
              "0                    0               0               1               0   \n",
              "1                    0               0               1               0   \n",
              "2                    0               1               0               0   \n",
              "3                    0               0               1               0   \n",
              "4                    1               1               1               0   \n",
              "...                ...             ...             ...             ...   \n",
              "297601               0               1               0               1   \n",
              "297602               0               1               1               0   \n",
              "297603               1               1               1               1   \n",
              "297604               0               1               0               0   \n",
              "297605               0               0               1               0   \n",
              "\n",
              "        ps_calc_19_bin  ps_calc_20_bin  \n",
              "0                    0               0  \n",
              "1                    1               0  \n",
              "2                    0               0  \n",
              "3                    0               1  \n",
              "4                    1               0  \n",
              "...                ...             ...  \n",
              "297601               0               0  \n",
              "297602               1               0  \n",
              "297603               0               0  \n",
              "297604               0               0  \n",
              "297605               0               0  \n",
              "\n",
              "[297606 rows x 57 columns]"
            ]
          },
          "execution_count": 86,
          "metadata": {},
          "output_type": "execute_result"
        }
      ],
      "source": [
        "### ╰( ͡° ͜ʖ ͡° )つ──☆*:・ﾟ\n",
        "X_train, X_test, y_train, y_test = train_test_split(data, target, test_size=0.5)\n",
        "X_train = X_train.reset_index(drop=True)\n",
        "X_test = X_test.reset_index(drop=True)\n",
        "X_train"
      ]
    },
    {
      "cell_type": "code",
      "execution_count": 87,
      "metadata": {
        "id": "NNXbFsgzxRzp"
      },
      "outputs": [],
      "source": [
        "cat_columns = ['ps_ind_02_cat', 'ps_ind_04_cat',\n",
        "                'ps_ind_05_cat', 'ps_car_01_cat', 'ps_car_02_cat',\n",
        "                'ps_car_03_cat', 'ps_car_04_cat', 'ps_car_05_cat',\n",
        "                'ps_car_06_cat', 'ps_car_07_cat', 'ps_car_08_cat',\n",
        "                'ps_car_09_cat', 'ps_car_10_cat', 'ps_car_11_cat']\n",
        "\n",
        "for ind in cat_columns:\n",
        "\n",
        "    cat_list = np.unique(X_train[ind])\n",
        "    train_counts = np.zeros(np.size(X_train[ind]))\n",
        "    test_counts = np.zeros(np.size(X_test[ind]))\n",
        "\n",
        "    for cat in cat_list:\n",
        "        \n",
        "        numerator = np.sum(np.equal(X_train[ind], cat) & y_train == 1)\n",
        "        denominator = np.sum(np.equal(X_train[ind], cat))\n",
        "        cat_values = numerator / denominator\n",
        "        train_counts[X_train[ind] == cat] = cat_values\n",
        "        test_counts[X_test[ind] == cat] = cat_values\n",
        "\n",
        "    X_train.loc[:, ind] = train_counts\n",
        "    X_test.loc[:, ind] = test_counts"
      ]
    },
    {
      "cell_type": "code",
      "execution_count": 88,
      "metadata": {
        "id": "KtHApuxG4Cpi"
      },
      "outputs": [],
      "source": [
        "X_train = np.array(X_train)\n",
        "X_test = np.array(X_test)\n",
        "y_train = np.array(y_train)\n",
        "y_test = np.array(y_test)"
      ]
    },
    {
      "cell_type": "code",
      "execution_count": 89,
      "metadata": {
        "colab": {
          "base_uri": "https://localhost:8080/"
        },
        "id": "GXPVPt9E4AAo",
        "outputId": "418c74e4-bb0d-46a4-c273-ec83efcea505"
      },
      "outputs": [
        {
          "name": "stderr",
          "output_type": "stream",
          "text": [
            "100%|██████████| 10/10 [04:54<00:00, 29.47s/it]"
          ]
        },
        {
          "name": "stdout",
          "output_type": "stream",
          "text": [
            "GD ROC-AUC: 0.569\n",
            "Среднее время выполнения LogReg с градиентным спуском: 29.402 секунд\n"
          ]
        },
        {
          "name": "stderr",
          "output_type": "stream",
          "text": [
            "\n"
          ]
        }
      ],
      "source": [
        "from tqdm import tqdm\n",
        "\n",
        "time_gd = []\n",
        "roc_auc_scores_gd = []\n",
        "\n",
        "for i in tqdm(range(10)):\n",
        "    # Создаем модель с GD\n",
        "    logreg_gd = LogReg(gd_type='full', max_iter=1000, tolerance=1e-6, eta=0.1)\n",
        "\n",
        "    start_time = time.time()\n",
        "    logreg_gd.fit(X_train, y_train)\n",
        "    end_time = time.time()\n",
        "    sgd_time = end_time - start_time\n",
        "    time_gd.append(sgd_time)\n",
        "\n",
        "    # Вычисляем ROC-AUC\n",
        "    y_prob_gd = logreg_gd.predict_proba(X_test)\n",
        "    roc_auc_gd = roc_auc_score(y_test, y_prob_gd)\n",
        "    roc_auc_scores_gd.append(roc_auc_gd)\n",
        "\n",
        "# Усредняем\n",
        "average_time_gd = sum(time_gd) / len(time_gd)\n",
        "average_roc_auc_gd = sum(roc_auc_scores_gd) / len(roc_auc_scores_gd)\n",
        "\n",
        "print(f\"GD ROC-AUC: {average_roc_auc_gd:.3f}\")\n",
        "print(f\"Среднее время выполнения LogReg с градиентным спуском: {average_time_gd:.3f} секунд\")"
      ]
    },
    {
      "cell_type": "code",
      "execution_count": 27,
      "metadata": {
        "colab": {
          "base_uri": "https://localhost:8080/"
        },
        "id": "WsUy53Hw4N8R",
        "outputId": "178047be-1853-437c-90eb-c7b601b7b272"
      },
      "outputs": [
        {
          "name": "stderr",
          "output_type": "stream",
          "text": [
            "100%|██████████| 100/100 [00:03<00:00, 32.81it/s]"
          ]
        },
        {
          "name": "stdout",
          "output_type": "stream",
          "text": [
            "SGD ROC-AUC: 0.501\n",
            "Среднее время выполнения LogReg со стохастическим градиентным спуском: 0.010 секунд\n"
          ]
        },
        {
          "name": "stderr",
          "output_type": "stream",
          "text": [
            "\n"
          ]
        }
      ],
      "source": [
        "time_sgd = []\n",
        "roc_auc_scores_sgd = []\n",
        "\n",
        "for i in tqdm(range(100)):\n",
        "    # Создаем модель с SGD\n",
        "    logreg_sgd = LogReg(gd_type='stochastic', max_iter=1000, tolerance=1e-6, eta=0.1)\n",
        "\n",
        "    start_time = time.time()\n",
        "    logreg_sgd.fit(X_train, y_train)\n",
        "    end_time = time.time()\n",
        "    sgd_time = end_time - start_time\n",
        "    time_sgd.append(sgd_time)\n",
        "\n",
        "    # Вычисляем ROC-AUC\n",
        "    y_prob_sgd = logreg_sgd.predict_proba(X_test)\n",
        "    roc_auc_sgd = roc_auc_score(y_test, y_prob_sgd)\n",
        "    roc_auc_scores_sgd.append(roc_auc_sgd)\n",
        "\n",
        "# Усредняем\n",
        "average_time_sgd = sum(time_sgd) / len(time_sgd)\n",
        "average_roc_auc_sgd = sum(roc_auc_scores_sgd) / len(roc_auc_scores_sgd)\n",
        "\n",
        "print(f\"SGD ROC-AUC: {average_roc_auc_sgd:.3f}\")\n",
        "print(f\"Среднее время выполнения LogReg со стохастическим градиентным спуском: {average_time_sgd:.3f} секунд\")"
      ]
    },
    {
      "cell_type": "markdown",
      "metadata": {},
      "source": [
        "Качество получилось немного хуже, чем с One-hot кодированием"
      ]
    },
    {
      "cell_type": "markdown",
      "metadata": {
        "id": "pNQO3m1dwCjs"
      },
      "source": [
        "Отметим, что такие признаки сами по себе являются классификаторами и, обучаясь на них, мы допускаем \"утечку\" целевой переменной в признаки. Это ведёт к переобучению, поэтому считать такие признаки необходимо так, чтобы при вычислении для конкретного объекта его целевая метка не использовалась. Это можно делать следующими способами:\n",
        "1. Вычислять значение счётчика по всем объектам расположенным выше в датасете (например, если у нас выборка отсортирована по времени).\n",
        "2. Вычислять по фолдам, то есть делить выборку на некоторое количество частей и подсчитывать значение признаков по всем фолдам кроме текущего (как делается в кросс-валидации).\n",
        "3. Внесение некоторого шума в посчитанные признаки.\n",
        "\n",
        "__Задание 8 (1 балл)__. Реализуйте корректное вычисление счётчиков самым простым способом — добавление шума к значениям (необходимо соблюсти баланс между избавление от переобучения и полезностью признаков). Снова обучите логистическую регрессию, оцените качество. Сделайте выводы.\n"
      ]
    },
    {
      "cell_type": "code",
      "execution_count": 91,
      "metadata": {
        "colab": {
          "base_uri": "https://localhost:8080/",
          "height": 443
        },
        "id": "wACuswfc5oTt",
        "outputId": "64c84b74-c517-428e-cfa1-6a536cb7edf7"
      },
      "outputs": [
        {
          "data": {
            "text/html": [
              "<div>\n",
              "<style scoped>\n",
              "    .dataframe tbody tr th:only-of-type {\n",
              "        vertical-align: middle;\n",
              "    }\n",
              "\n",
              "    .dataframe tbody tr th {\n",
              "        vertical-align: top;\n",
              "    }\n",
              "\n",
              "    .dataframe thead th {\n",
              "        text-align: right;\n",
              "    }\n",
              "</style>\n",
              "<table border=\"1\" class=\"dataframe\">\n",
              "  <thead>\n",
              "    <tr style=\"text-align: right;\">\n",
              "      <th></th>\n",
              "      <th>ps_ind_01</th>\n",
              "      <th>ps_ind_02_cat</th>\n",
              "      <th>ps_ind_03</th>\n",
              "      <th>ps_ind_04_cat</th>\n",
              "      <th>ps_ind_05_cat</th>\n",
              "      <th>ps_ind_06_bin</th>\n",
              "      <th>ps_ind_07_bin</th>\n",
              "      <th>ps_ind_08_bin</th>\n",
              "      <th>ps_ind_09_bin</th>\n",
              "      <th>ps_ind_10_bin</th>\n",
              "      <th>...</th>\n",
              "      <th>ps_calc_11</th>\n",
              "      <th>ps_calc_12</th>\n",
              "      <th>ps_calc_13</th>\n",
              "      <th>ps_calc_14</th>\n",
              "      <th>ps_calc_15_bin</th>\n",
              "      <th>ps_calc_16_bin</th>\n",
              "      <th>ps_calc_17_bin</th>\n",
              "      <th>ps_calc_18_bin</th>\n",
              "      <th>ps_calc_19_bin</th>\n",
              "      <th>ps_calc_20_bin</th>\n",
              "    </tr>\n",
              "  </thead>\n",
              "  <tbody>\n",
              "    <tr>\n",
              "      <th>0</th>\n",
              "      <td>4</td>\n",
              "      <td>1</td>\n",
              "      <td>3</td>\n",
              "      <td>1</td>\n",
              "      <td>0</td>\n",
              "      <td>0</td>\n",
              "      <td>1</td>\n",
              "      <td>0</td>\n",
              "      <td>0</td>\n",
              "      <td>0</td>\n",
              "      <td>...</td>\n",
              "      <td>6</td>\n",
              "      <td>2</td>\n",
              "      <td>1</td>\n",
              "      <td>5</td>\n",
              "      <td>0</td>\n",
              "      <td>0</td>\n",
              "      <td>0</td>\n",
              "      <td>0</td>\n",
              "      <td>1</td>\n",
              "      <td>0</td>\n",
              "    </tr>\n",
              "    <tr>\n",
              "      <th>1</th>\n",
              "      <td>1</td>\n",
              "      <td>1</td>\n",
              "      <td>2</td>\n",
              "      <td>1</td>\n",
              "      <td>0</td>\n",
              "      <td>0</td>\n",
              "      <td>1</td>\n",
              "      <td>0</td>\n",
              "      <td>0</td>\n",
              "      <td>0</td>\n",
              "      <td>...</td>\n",
              "      <td>5</td>\n",
              "      <td>1</td>\n",
              "      <td>2</td>\n",
              "      <td>7</td>\n",
              "      <td>1</td>\n",
              "      <td>0</td>\n",
              "      <td>1</td>\n",
              "      <td>0</td>\n",
              "      <td>0</td>\n",
              "      <td>0</td>\n",
              "    </tr>\n",
              "    <tr>\n",
              "      <th>2</th>\n",
              "      <td>1</td>\n",
              "      <td>1</td>\n",
              "      <td>3</td>\n",
              "      <td>1</td>\n",
              "      <td>0</td>\n",
              "      <td>0</td>\n",
              "      <td>0</td>\n",
              "      <td>1</td>\n",
              "      <td>0</td>\n",
              "      <td>0</td>\n",
              "      <td>...</td>\n",
              "      <td>8</td>\n",
              "      <td>2</td>\n",
              "      <td>1</td>\n",
              "      <td>12</td>\n",
              "      <td>0</td>\n",
              "      <td>0</td>\n",
              "      <td>1</td>\n",
              "      <td>0</td>\n",
              "      <td>0</td>\n",
              "      <td>1</td>\n",
              "    </tr>\n",
              "    <tr>\n",
              "      <th>3</th>\n",
              "      <td>0</td>\n",
              "      <td>1</td>\n",
              "      <td>4</td>\n",
              "      <td>0</td>\n",
              "      <td>6</td>\n",
              "      <td>0</td>\n",
              "      <td>0</td>\n",
              "      <td>1</td>\n",
              "      <td>0</td>\n",
              "      <td>0</td>\n",
              "      <td>...</td>\n",
              "      <td>3</td>\n",
              "      <td>3</td>\n",
              "      <td>2</td>\n",
              "      <td>12</td>\n",
              "      <td>1</td>\n",
              "      <td>0</td>\n",
              "      <td>0</td>\n",
              "      <td>1</td>\n",
              "      <td>0</td>\n",
              "      <td>0</td>\n",
              "    </tr>\n",
              "    <tr>\n",
              "      <th>4</th>\n",
              "      <td>0</td>\n",
              "      <td>3</td>\n",
              "      <td>5</td>\n",
              "      <td>1</td>\n",
              "      <td>0</td>\n",
              "      <td>0</td>\n",
              "      <td>1</td>\n",
              "      <td>0</td>\n",
              "      <td>0</td>\n",
              "      <td>0</td>\n",
              "      <td>...</td>\n",
              "      <td>6</td>\n",
              "      <td>3</td>\n",
              "      <td>3</td>\n",
              "      <td>9</td>\n",
              "      <td>0</td>\n",
              "      <td>1</td>\n",
              "      <td>0</td>\n",
              "      <td>0</td>\n",
              "      <td>0</td>\n",
              "      <td>1</td>\n",
              "    </tr>\n",
              "    <tr>\n",
              "      <th>...</th>\n",
              "      <td>...</td>\n",
              "      <td>...</td>\n",
              "      <td>...</td>\n",
              "      <td>...</td>\n",
              "      <td>...</td>\n",
              "      <td>...</td>\n",
              "      <td>...</td>\n",
              "      <td>...</td>\n",
              "      <td>...</td>\n",
              "      <td>...</td>\n",
              "      <td>...</td>\n",
              "      <td>...</td>\n",
              "      <td>...</td>\n",
              "      <td>...</td>\n",
              "      <td>...</td>\n",
              "      <td>...</td>\n",
              "      <td>...</td>\n",
              "      <td>...</td>\n",
              "      <td>...</td>\n",
              "      <td>...</td>\n",
              "      <td>...</td>\n",
              "    </tr>\n",
              "    <tr>\n",
              "      <th>297601</th>\n",
              "      <td>1</td>\n",
              "      <td>1</td>\n",
              "      <td>1</td>\n",
              "      <td>1</td>\n",
              "      <td>0</td>\n",
              "      <td>1</td>\n",
              "      <td>0</td>\n",
              "      <td>0</td>\n",
              "      <td>0</td>\n",
              "      <td>0</td>\n",
              "      <td>...</td>\n",
              "      <td>6</td>\n",
              "      <td>2</td>\n",
              "      <td>3</td>\n",
              "      <td>6</td>\n",
              "      <td>0</td>\n",
              "      <td>1</td>\n",
              "      <td>0</td>\n",
              "      <td>1</td>\n",
              "      <td>1</td>\n",
              "      <td>1</td>\n",
              "    </tr>\n",
              "    <tr>\n",
              "      <th>297602</th>\n",
              "      <td>2</td>\n",
              "      <td>1</td>\n",
              "      <td>2</td>\n",
              "      <td>1</td>\n",
              "      <td>0</td>\n",
              "      <td>0</td>\n",
              "      <td>0</td>\n",
              "      <td>1</td>\n",
              "      <td>0</td>\n",
              "      <td>0</td>\n",
              "      <td>...</td>\n",
              "      <td>2</td>\n",
              "      <td>0</td>\n",
              "      <td>3</td>\n",
              "      <td>11</td>\n",
              "      <td>0</td>\n",
              "      <td>1</td>\n",
              "      <td>1</td>\n",
              "      <td>0</td>\n",
              "      <td>0</td>\n",
              "      <td>0</td>\n",
              "    </tr>\n",
              "    <tr>\n",
              "      <th>297603</th>\n",
              "      <td>5</td>\n",
              "      <td>1</td>\n",
              "      <td>1</td>\n",
              "      <td>0</td>\n",
              "      <td>0</td>\n",
              "      <td>1</td>\n",
              "      <td>0</td>\n",
              "      <td>0</td>\n",
              "      <td>0</td>\n",
              "      <td>0</td>\n",
              "      <td>...</td>\n",
              "      <td>3</td>\n",
              "      <td>2</td>\n",
              "      <td>1</td>\n",
              "      <td>7</td>\n",
              "      <td>0</td>\n",
              "      <td>1</td>\n",
              "      <td>1</td>\n",
              "      <td>0</td>\n",
              "      <td>1</td>\n",
              "      <td>0</td>\n",
              "    </tr>\n",
              "    <tr>\n",
              "      <th>297604</th>\n",
              "      <td>1</td>\n",
              "      <td>1</td>\n",
              "      <td>1</td>\n",
              "      <td>1</td>\n",
              "      <td>0</td>\n",
              "      <td>1</td>\n",
              "      <td>0</td>\n",
              "      <td>0</td>\n",
              "      <td>0</td>\n",
              "      <td>0</td>\n",
              "      <td>...</td>\n",
              "      <td>6</td>\n",
              "      <td>1</td>\n",
              "      <td>1</td>\n",
              "      <td>9</td>\n",
              "      <td>0</td>\n",
              "      <td>1</td>\n",
              "      <td>0</td>\n",
              "      <td>0</td>\n",
              "      <td>1</td>\n",
              "      <td>0</td>\n",
              "    </tr>\n",
              "    <tr>\n",
              "      <th>297605</th>\n",
              "      <td>0</td>\n",
              "      <td>1</td>\n",
              "      <td>8</td>\n",
              "      <td>1</td>\n",
              "      <td>0</td>\n",
              "      <td>0</td>\n",
              "      <td>0</td>\n",
              "      <td>1</td>\n",
              "      <td>0</td>\n",
              "      <td>0</td>\n",
              "      <td>...</td>\n",
              "      <td>2</td>\n",
              "      <td>3</td>\n",
              "      <td>1</td>\n",
              "      <td>11</td>\n",
              "      <td>0</td>\n",
              "      <td>0</td>\n",
              "      <td>1</td>\n",
              "      <td>0</td>\n",
              "      <td>0</td>\n",
              "      <td>0</td>\n",
              "    </tr>\n",
              "  </tbody>\n",
              "</table>\n",
              "<p>297606 rows × 57 columns</p>\n",
              "</div>"
            ],
            "text/plain": [
              "        ps_ind_01  ps_ind_02_cat  ps_ind_03  ps_ind_04_cat  ps_ind_05_cat  \\\n",
              "0               4              1          3              1              0   \n",
              "1               1              1          2              1              0   \n",
              "2               1              1          3              1              0   \n",
              "3               0              1          4              0              6   \n",
              "4               0              3          5              1              0   \n",
              "...           ...            ...        ...            ...            ...   \n",
              "297601          1              1          1              1              0   \n",
              "297602          2              1          2              1              0   \n",
              "297603          5              1          1              0              0   \n",
              "297604          1              1          1              1              0   \n",
              "297605          0              1          8              1              0   \n",
              "\n",
              "        ps_ind_06_bin  ps_ind_07_bin  ps_ind_08_bin  ps_ind_09_bin  \\\n",
              "0                   0              1              0              0   \n",
              "1                   0              1              0              0   \n",
              "2                   0              0              1              0   \n",
              "3                   0              0              1              0   \n",
              "4                   0              1              0              0   \n",
              "...               ...            ...            ...            ...   \n",
              "297601              1              0              0              0   \n",
              "297602              0              0              1              0   \n",
              "297603              1              0              0              0   \n",
              "297604              1              0              0              0   \n",
              "297605              0              0              1              0   \n",
              "\n",
              "        ps_ind_10_bin  ...  ps_calc_11  ps_calc_12  ps_calc_13  ps_calc_14  \\\n",
              "0                   0  ...           6           2           1           5   \n",
              "1                   0  ...           5           1           2           7   \n",
              "2                   0  ...           8           2           1          12   \n",
              "3                   0  ...           3           3           2          12   \n",
              "4                   0  ...           6           3           3           9   \n",
              "...               ...  ...         ...         ...         ...         ...   \n",
              "297601              0  ...           6           2           3           6   \n",
              "297602              0  ...           2           0           3          11   \n",
              "297603              0  ...           3           2           1           7   \n",
              "297604              0  ...           6           1           1           9   \n",
              "297605              0  ...           2           3           1          11   \n",
              "\n",
              "        ps_calc_15_bin  ps_calc_16_bin  ps_calc_17_bin  ps_calc_18_bin  \\\n",
              "0                    0               0               0               0   \n",
              "1                    1               0               1               0   \n",
              "2                    0               0               1               0   \n",
              "3                    1               0               0               1   \n",
              "4                    0               1               0               0   \n",
              "...                ...             ...             ...             ...   \n",
              "297601               0               1               0               1   \n",
              "297602               0               1               1               0   \n",
              "297603               0               1               1               0   \n",
              "297604               0               1               0               0   \n",
              "297605               0               0               1               0   \n",
              "\n",
              "        ps_calc_19_bin  ps_calc_20_bin  \n",
              "0                    1               0  \n",
              "1                    0               0  \n",
              "2                    0               1  \n",
              "3                    0               0  \n",
              "4                    0               1  \n",
              "...                ...             ...  \n",
              "297601               1               1  \n",
              "297602               0               0  \n",
              "297603               1               0  \n",
              "297604               1               0  \n",
              "297605               0               0  \n",
              "\n",
              "[297606 rows x 57 columns]"
            ]
          },
          "execution_count": 91,
          "metadata": {},
          "output_type": "execute_result"
        }
      ],
      "source": [
        "X_train, X_test, y_train, y_test = train_test_split(data, target, test_size=0.5)\n",
        "X_train = X_train.reset_index(drop=True)\n",
        "X_test = X_test.reset_index(drop=True)\n",
        "X_train"
      ]
    },
    {
      "cell_type": "code",
      "execution_count": 92,
      "metadata": {},
      "outputs": [],
      "source": [
        "### ╰( ͡° ͜ʖ ͡° )つ──☆*:・ﾟ\n",
        "cat_columns = ['ps_ind_02_cat', 'ps_ind_04_cat',\n",
        "                'ps_ind_05_cat', 'ps_car_01_cat', 'ps_car_02_cat',\n",
        "                'ps_car_03_cat', 'ps_car_04_cat', 'ps_car_05_cat',\n",
        "                'ps_car_06_cat', 'ps_car_07_cat', 'ps_car_08_cat',\n",
        "                'ps_car_09_cat', 'ps_car_10_cat', 'ps_car_11_cat']\n",
        "\n",
        "for ind in cat_columns:\n",
        "\n",
        "    cat_list = np.unique(X_train[ind])\n",
        "    train_counts = np.zeros(np.size(X_train[ind]))\n",
        "    test_counts = np.zeros(np.size(X_test[ind]))\n",
        "\n",
        "    for cat in cat_list:\n",
        "        \n",
        "        numerator = np.sum(np.equal(X_train[ind], cat) & y_train == 1)\n",
        "        denominator = np.sum(np.equal(X_train[ind], cat))\n",
        "        cat_values = numerator / denominator\n",
        "        noise = np.random.normal(0.00001, 0.1, 1) # Добавляем шум\n",
        "        cat_values_noise = cat_values + noise\n",
        "        train_counts[X_train[ind] == cat] = cat_values_noise\n",
        "        test_counts[X_test[ind] == cat] = cat_values_noise\n",
        "\n",
        "    X_train.loc[:, ind] = train_counts\n",
        "    X_test.loc[:, ind] = test_counts"
      ]
    },
    {
      "cell_type": "code",
      "execution_count": 93,
      "metadata": {
        "id": "AvD-UO0F6SMS"
      },
      "outputs": [],
      "source": [
        "X_train = np.array(X_train)\n",
        "X_test = np.array(X_test)\n",
        "y_train = np.array(y_train)\n",
        "y_test = np.array(y_test)"
      ]
    },
    {
      "cell_type": "code",
      "execution_count": 31,
      "metadata": {
        "colab": {
          "base_uri": "https://localhost:8080/"
        },
        "id": "mPcKSPNc569C",
        "outputId": "f1f6d69c-9ac6-454a-b498-e5f0319224f4"
      },
      "outputs": [
        {
          "name": "stderr",
          "output_type": "stream",
          "text": [
            "100%|██████████| 10/10 [01:01<00:00,  6.13s/it]"
          ]
        },
        {
          "name": "stdout",
          "output_type": "stream",
          "text": [
            "GD ROC-AUC: 0.595\n",
            "Среднее время выполнения LogReg с градиентным спуском: 6.107 секунд\n"
          ]
        },
        {
          "name": "stderr",
          "output_type": "stream",
          "text": [
            "\n"
          ]
        }
      ],
      "source": [
        "from tqdm import tqdm\n",
        "\n",
        "time_gd = []\n",
        "roc_auc_scores_gd = []\n",
        "\n",
        "for i in tqdm(range(10)):\n",
        "    # Создаем модель с GD\n",
        "    logreg_gd = LogReg(gd_type='full', max_iter=1000, tolerance=1e-6, eta=0.1)\n",
        "\n",
        "    start_time = time.time()\n",
        "    logreg_gd.fit(X_train, y_train)\n",
        "    end_time = time.time()\n",
        "    sgd_time = end_time - start_time\n",
        "    time_gd.append(sgd_time)\n",
        "\n",
        "    # Вычисляем ROC-AUC\n",
        "    y_prob_gd = logreg_gd.predict_proba(X_test)\n",
        "    roc_auc_gd = roc_auc_score(y_test, y_prob_gd)\n",
        "    roc_auc_scores_gd.append(roc_auc_gd)\n",
        "\n",
        "# Усредняем\n",
        "average_time_gd = sum(time_gd) / len(time_gd)\n",
        "average_roc_auc_gd = sum(roc_auc_scores_gd) / len(roc_auc_scores_gd)\n",
        "\n",
        "print(f\"GD ROC-AUC: {average_roc_auc_gd:.3f}\")\n",
        "print(f\"Среднее время выполнения LogReg с градиентным спуском: {average_time_gd:.3f} секунд\")"
      ]
    },
    {
      "cell_type": "code",
      "execution_count": 94,
      "metadata": {
        "colab": {
          "base_uri": "https://localhost:8080/"
        },
        "id": "YHmurPhm59nI",
        "outputId": "c55b1edb-21fd-4026-8a5b-032b1ff18c5b"
      },
      "outputs": [
        {
          "name": "stderr",
          "output_type": "stream",
          "text": [
            "100%|██████████| 10/10 [02:27<00:00, 14.78s/it]"
          ]
        },
        {
          "name": "stdout",
          "output_type": "stream",
          "text": [
            "SGD ROC-AUC: 0.520\n",
            "Среднее время выполнения LogReg со стохастическим градиентным спуском: 14.719 секунд\n"
          ]
        },
        {
          "name": "stderr",
          "output_type": "stream",
          "text": [
            "\n"
          ]
        }
      ],
      "source": [
        "time_sgd = []\n",
        "roc_auc_scores_sgd = []\n",
        "\n",
        "for i in tqdm(range(10)):\n",
        "    # Создаем модель с SGD\n",
        "    logreg_sgd = LogReg(gd_type='stochastic', max_iter=1000, tolerance=1e-6, eta=0.01)\n",
        "\n",
        "    start_time = time.time()\n",
        "    logreg_sgd.fit(X_train, y_train)\n",
        "    end_time = time.time()\n",
        "    sgd_time = end_time - start_time\n",
        "    time_sgd.append(sgd_time)\n",
        "\n",
        "    # Вычисляем ROC-AUC\n",
        "    y_prob_sgd = logreg_sgd.predict_proba(X_test)\n",
        "    roc_auc_sgd = roc_auc_score(y_test, y_prob_sgd)\n",
        "    roc_auc_scores_sgd.append(roc_auc_sgd)\n",
        "\n",
        "# Усредняем\n",
        "average_time_sgd = sum(time_sgd) / len(time_sgd)\n",
        "average_roc_auc_sgd = sum(roc_auc_scores_sgd) / len(roc_auc_scores_sgd)\n",
        "\n",
        "print(f\"SGD ROC-AUC: {average_roc_auc_sgd:.3f}\")\n",
        "print(f\"Среднее время выполнения LogReg со стохастическим градиентным спуском: {average_time_sgd:.3f} секунд\")"
      ]
    },
    {
      "cell_type": "markdown",
      "metadata": {},
      "source": [
        "После добавления шума значения ROC-AUC немного упали, но это все еще самый лучший результат!"
      ]
    },
    {
      "cell_type": "markdown",
      "metadata": {
        "id": "Ge2P-sbgwCjs"
      },
      "source": [
        "## Часть 3. Отбор признаков (3 балла + 1 бонус)"
      ]
    },
    {
      "cell_type": "markdown",
      "metadata": {
        "id": "7OSVh-I-wCjt"
      },
      "source": [
        "Важной частью процесса построения модели является отбор признаков. На практике многие признаки оказывают малое влияние на модель (при этом они увеличивают время вычислений) или даже негативно сказываются на качестве модели. Попробуем несколько подходов отбора признаков, оценим, как они влияют на качество модели и сколько времени занимают.\n",
        "\n",
        "Обратимся к тому же датасету про обращение клиентов по страховым случаям. Обойдёмся без сэмплирования объектов."
      ]
    },
    {
      "cell_type": "code",
      "execution_count": 33,
      "metadata": {
        "ExecuteTime": {
          "end_time": "2018-10-12T07:36:04.765536Z",
          "start_time": "2018-10-12T07:35:57.814973Z"
        },
        "id": "wYCvmZmwwCjt"
      },
      "outputs": [],
      "source": [
        "data = pd.read_csv('train.csv', index_col=0)\n",
        "target = data.target.values\n",
        "data = data.drop('target', axis=1)\n",
        "X_train, X_test, y_train, y_test = train_test_split(data, target, test_size=0.2, random_state=124)"
      ]
    },
    {
      "cell_type": "code",
      "execution_count": 34,
      "metadata": {
        "id": "rYF0c5fzjscY"
      },
      "outputs": [],
      "source": [
        "X_train = X_train.reset_index(drop=True)\n",
        "X_test = X_test.reset_index(drop=True)"
      ]
    },
    {
      "cell_type": "markdown",
      "metadata": {
        "id": "_h38IoLCwCjt"
      },
      "source": [
        "Как вы помните, в данных много категориальных признаков. Давайте закодируем их с помощью one-hot кодирования. Исходные колонки с категориальными признаками можно удалить. Сколько признаков мы получили?"
      ]
    },
    {
      "cell_type": "code",
      "execution_count": 35,
      "metadata": {
        "id": "yBCfNq0fwCjt"
      },
      "outputs": [],
      "source": [
        "### ╰( ͡° ͜ʖ ͡° )つ──☆*:・ﾟ\n",
        "cat_columns = ['ps_ind_02_cat', 'ps_ind_04_cat',\n",
        "                'ps_ind_05_cat', 'ps_car_01_cat', 'ps_car_02_cat',\n",
        "                'ps_car_03_cat', 'ps_car_04_cat', 'ps_car_05_cat',\n",
        "                'ps_car_06_cat', 'ps_car_07_cat', 'ps_car_08_cat',\n",
        "                'ps_car_09_cat', 'ps_car_10_cat', 'ps_car_11_cat']\n",
        "\n",
        "enc = OneHotEncoder(drop='first')\n",
        "encoded_train = enc.fit_transform(X_train[cat_columns]).toarray()\n",
        "encoded_train = pd.DataFrame(encoded_train, columns=enc.get_feature_names_out())\n",
        "X_train = pd.concat([X_train, encoded_train], axis=1).drop(columns=cat_columns)"
      ]
    },
    {
      "cell_type": "code",
      "execution_count": 36,
      "metadata": {
        "id": "w7MXkVCzoiFx"
      },
      "outputs": [],
      "source": [
        "encoded_test = enc.transform(X_test[cat_columns]).toarray()\n",
        "encoded_test = pd.DataFrame(encoded_test, columns=enc.get_feature_names_out())\n",
        "X_test = pd.concat([X_test, encoded_test], axis=1).drop(columns=cat_columns)"
      ]
    },
    {
      "cell_type": "code",
      "execution_count": 37,
      "metadata": {
        "id": "vgvL9iC7nZFJ"
      },
      "outputs": [],
      "source": [
        "X_train = np.array(X_train)\n",
        "X_test = np.array(X_test)\n",
        "y_train = np.array(y_train)\n",
        "y_test = np.array(y_test)"
      ]
    },
    {
      "cell_type": "markdown",
      "metadata": {
        "id": "xXcHlZBcwCjt"
      },
      "source": [
        "В качестве основной модели будем использовать логистическую регрессию, а целевой метрики — ROC-AUC. Обучите модель и посчитайте качество на тестовой выборке. Давайте запомним полученное значение."
      ]
    },
    {
      "cell_type": "code",
      "execution_count": 38,
      "metadata": {},
      "outputs": [
        {
          "name": "stdout",
          "output_type": "stream",
          "text": [
            "Sclearn ROC-AUC: 0.5000\n",
            "Среднее время выполнения Библиотечной LogReg: 2.694 секунд\n"
          ]
        }
      ],
      "source": [
        "from sklearn.linear_model import LogisticRegression\n",
        "\n",
        "model = LogisticRegression(max_iter=1000, n_jobs = -1, tol = 0.1, solver='saga')\n",
        "\n",
        "start_time = time.time()\n",
        "model.fit(X_train, y_train)\n",
        "end_time = time.time()\n",
        "model_time = end_time - start_time\n",
        "\n",
        "# Вычисляем ROC-AUC\n",
        "y_prob_model = model.predict(X_test)\n",
        "roc_auc_model = roc_auc_score(y_test, y_prob_model)\n",
        "\n",
        "print(f\"Sclearn ROC-AUC: {roc_auc_model:.4f}\")\n",
        "print(f\"Среднее время выполнения Библиотечной LogReg: {model_time:.3f} секунд\")"
      ]
    },
    {
      "cell_type": "markdown",
      "metadata": {},
      "source": [
        "Увеличим скорость обучения на порядок, чтобы попытаться снизить влияние количества признаков. Обойдемся без усреднения здесь и далее."
      ]
    },
    {
      "cell_type": "code",
      "execution_count": 39,
      "metadata": {
        "colab": {
          "base_uri": "https://localhost:8080/"
        },
        "id": "qNXFNyAuwCjt",
        "outputId": "fb353b81-9e28-4bb8-9e51-538e23375d60"
      },
      "outputs": [
        {
          "name": "stdout",
          "output_type": "stream",
          "text": [
            "GD ROC-AUC: 0.6084\n",
            "Среднее время выполнения LogReg с полным градиентным спуском: 103.452 секунд\n"
          ]
        }
      ],
      "source": [
        "### ╰( ͡° ͜ʖ ͡° )つ──☆*:・ﾟ\n",
        "logreg_gd = LogReg(gd_type='full', max_iter=1000, tolerance=1e-6, eta=0.1)\n",
        "\n",
        "start_time = time.time()\n",
        "logreg_gd.fit(X_train, y_train)\n",
        "end_time = time.time()\n",
        "gd_time = end_time - start_time\n",
        "\n",
        "# Вычисляем ROC-AUC\n",
        "y_prob_gd = logreg_gd.predict_proba(X_test)\n",
        "roc_auc_gd = roc_auc_score(y_test, y_prob_gd)\n",
        "\n",
        "print(f\"GD ROC-AUC: {roc_auc_gd:.4f}\")\n",
        "print(f\"Среднее время выполнения LogReg с полным градиентным спуском: {gd_time:.3f} секунд\")"
      ]
    },
    {
      "cell_type": "markdown",
      "metadata": {},
      "source": [
        "Полный градиентный спуск в этом случае считается невероятно долго, даже с увеличенной скоростью обучения. Зато получаем качество получше, что и следует от него ожидать"
      ]
    },
    {
      "cell_type": "code",
      "execution_count": 40,
      "metadata": {
        "colab": {
          "base_uri": "https://localhost:8080/"
        },
        "id": "yuWXSCh-ne62",
        "outputId": "125335a1-6f65-4136-de45-7f9515315fbc"
      },
      "outputs": [
        {
          "name": "stdout",
          "output_type": "stream",
          "text": [
            "SGD ROC-AUC: 0.497\n",
            "Среднее время выполнения LogReg со стохастическим градиентным спуском: 0.469 секунд\n"
          ]
        }
      ],
      "source": [
        "logreg_sgd = LogReg(gd_type='stochastic', max_iter=1000, tolerance=1e-6, eta=0.1)\n",
        "\n",
        "start_time = time.time()\n",
        "logreg_sgd.fit(X_train, y_train)\n",
        "end_time = time.time()\n",
        "sgd_time = end_time - start_time\n",
        "\n",
        "# Вычисляем ROC-AUC\n",
        "y_prob_sgd = logreg_sgd.predict_proba(X_test)\n",
        "roc_auc_sgd = roc_auc_score(y_test, y_prob_sgd)\n",
        "\n",
        "print(f\"SGD ROC-AUC: {roc_auc_sgd:.3f}\")\n",
        "print(f\"Среднее время выполнения LogReg со стохастическим градиентным спуском: {sgd_time:.3f} секунд\")"
      ]
    },
    {
      "cell_type": "markdown",
      "metadata": {
        "id": "gHnZM-l9wCjt"
      },
      "source": [
        "### Встроенные методы"
      ]
    },
    {
      "cell_type": "markdown",
      "metadata": {
        "id": "YCZGAXvxwCjt"
      },
      "source": [
        "Допустим, мы хотим оставить только 200 лучших признаков. Попробуем сделать это несколькими способами.\n",
        "\n",
        "Начнём с отборам признаков с помощью линейной модели. Как известно, веса линейной модели означают вклад каждого признака в предсказание модели, а значит, модуль этого вклада можно интерпретировать как важность признаков. Такой метод отбора называются встроенным или embedded methods, так как он заложен в особенности модели.\n",
        "\n",
        "__Задание 10 (1 балл).__ Оставьте 200 признаков с наибольшим модулем соответсвующего параметра линейной модели. Обучите модели заново и оцените её качество. Замерьте скорость такого отбора признаков.\n",
        "\n",
        "Изменилось ли качество? Как?"
      ]
    },
    {
      "cell_type": "markdown",
      "metadata": {},
      "source": [
        "Здесь у меня возникли некоторые вопросы с собственной реализацией корректного отбора 200 признаков, поэтому я решил использовать готовое решение SelectFromModel от библиотечной логистической регрессии. Ограничиваем признаки по порогу 1е-5"
      ]
    },
    {
      "cell_type": "code",
      "execution_count": 41,
      "metadata": {},
      "outputs": [
        {
          "name": "stdout",
          "output_type": "stream",
          "text": [
            "Суммарно на fit и transform отбора признаков к обоим датафреймам ушло 3.944 секунд.\n"
          ]
        }
      ],
      "source": [
        "from sklearn.linear_model import LogisticRegression\n",
        "from sklearn.feature_selection import SelectFromModel\n",
        "\n",
        "model = LogisticRegression(max_iter=1000, n_jobs = -1, tol = 0.1, solver='saga')\n",
        "model.fit(X_train, y_train)\n",
        "\n",
        "sel = SelectFromModel(model, max_features=200, threshold = 1e-5)\n",
        "\n",
        "start_time = time.time()\n",
        "sel.fit(X_train, y_train)\n",
        "\n",
        "X_train_max_feat = pd.DataFrame(sel.transform(X_train))\n",
        "X_test_max_feat = pd.DataFrame(sel.transform(X_test))\n",
        "end_time = time.time()\n",
        "\n",
        "feat_time = end_time - start_time\n",
        "\n",
        "print(f'Суммарно на fit и transform отбора признаков к обоим датафреймам ушло {feat_time:.3f} секунд.')"
      ]
    },
    {
      "cell_type": "code",
      "execution_count": 42,
      "metadata": {},
      "outputs": [
        {
          "data": {
            "text/plain": [
              "(476169, 200)"
            ]
          },
          "execution_count": 42,
          "metadata": {},
          "output_type": "execute_result"
        }
      ],
      "source": [
        "X_train_max_feat.shape"
      ]
    },
    {
      "cell_type": "code",
      "execution_count": 43,
      "metadata": {},
      "outputs": [],
      "source": [
        "X_train_max_feat = np.array(X_train_max_feat)\n",
        "X_test_max_feat = np.array(X_test_max_feat)\n",
        "y_train = np.array(y_train)\n",
        "y_test = np.array(y_test)"
      ]
    },
    {
      "cell_type": "code",
      "execution_count": 44,
      "metadata": {},
      "outputs": [
        {
          "name": "stdout",
          "output_type": "stream",
          "text": [
            "GD ROC-AUC: 0.6042\n",
            "Среднее время выполнения LogReg с полным градиентным спуском: 99.394 секунд\n"
          ]
        }
      ],
      "source": [
        "logreg_gd = LogReg(gd_type='full', max_iter=1000, tolerance=1e-6, eta=0.1)\n",
        "\n",
        "start_time = time.time()\n",
        "logreg_gd.fit(X_train_max_feat, y_train)\n",
        "end_time = time.time()\n",
        "gd_time = end_time - start_time\n",
        "\n",
        "# Вычисляем ROC-AUC\n",
        "y_prob_gd = logreg_gd.predict_proba(X_test_max_feat)\n",
        "roc_auc_gd = roc_auc_score(y_test, y_prob_gd)\n",
        "\n",
        "print(f\"GD ROC-AUC: {roc_auc_gd:.4f}\")\n",
        "print(f\"Среднее время выполнения LogReg с полным градиентным спуском: {gd_time:.3f} секунд\")"
      ]
    },
    {
      "cell_type": "code",
      "execution_count": 45,
      "metadata": {},
      "outputs": [
        {
          "name": "stdout",
          "output_type": "stream",
          "text": [
            "SGD ROC-AUC: 0.510\n",
            "Среднее время выполнения LogReg со стохастическим градиентным спуском: 0.133 секунд\n"
          ]
        }
      ],
      "source": [
        "logreg_sgd = LogReg(gd_type='stochastic', max_iter=1000, tolerance=1e-6, eta=0.1)\n",
        "\n",
        "start_time = time.time()\n",
        "logreg_sgd.fit(X_train_max_feat, y_train)\n",
        "end_time = time.time()\n",
        "sgd_time = end_time - start_time\n",
        "\n",
        "# Вычисляем ROC-AUC\n",
        "y_prob_sgd = logreg_sgd.predict_proba(X_test_max_feat)\n",
        "roc_auc_sgd = roc_auc_score(y_test, y_prob_sgd)\n",
        "\n",
        "print(f\"SGD ROC-AUC: {roc_auc_sgd:.3f}\")\n",
        "print(f\"Среднее время выполнения LogReg со стохастическим градиентным спуском: {sgd_time:.3f} секунд\")"
      ]
    },
    {
      "cell_type": "markdown",
      "metadata": {},
      "source": [
        "Качество осталось на том же уровне"
      ]
    },
    {
      "cell_type": "markdown",
      "metadata": {
        "id": "ZUTT1YD4wCju"
      },
      "source": [
        "А теперь давайте подумаем, что мы не учли. Мы предположили, что признаки вносят вклад равномерно, но не учли их масштаба. Если мы умножим один из признаков в 100 раз, то без учёта регуляризации его вес уменьшится в эти же 100 раз. А мы на основе этого отбираем признаки! Давайте сначала отнормируем признаки одним из способов, а только потом будем удалять признаки.\n",
        "\n",
        "Кстати, в таком случае надо пересчитать качество на всех признаках (сделайте это ниже). Если вы сделали нормирование признаков в самом начале, то попробуйте отобрать признаки на неотмасштабированных данных.\n",
        "\n",
        "Что получилось?"
      ]
    },
    {
      "cell_type": "markdown",
      "metadata": {},
      "source": [
        "Проделаем еще раз, заново, поэтапно и честно"
      ]
    },
    {
      "cell_type": "code",
      "execution_count": 46,
      "metadata": {},
      "outputs": [],
      "source": [
        "data = pd.read_csv('train.csv', index_col=0)\n",
        "target = data.target.values\n",
        "data = data.drop('target', axis=1)\n",
        "X_train, X_test, y_train, y_test = train_test_split(data, target, test_size=0.2, random_state=124)"
      ]
    },
    {
      "cell_type": "code",
      "execution_count": 47,
      "metadata": {},
      "outputs": [],
      "source": [
        "X_train = X_train.reset_index(drop=True)\n",
        "X_test = X_test.reset_index(drop=True)"
      ]
    },
    {
      "cell_type": "code",
      "execution_count": 48,
      "metadata": {},
      "outputs": [],
      "source": [
        "cat_columns = ['ps_ind_02_cat', 'ps_ind_04_cat',\n",
        "                'ps_ind_05_cat', 'ps_car_01_cat', 'ps_car_02_cat',\n",
        "                'ps_car_03_cat', 'ps_car_04_cat', 'ps_car_05_cat',\n",
        "                'ps_car_06_cat', 'ps_car_07_cat', 'ps_car_08_cat',\n",
        "                'ps_car_09_cat', 'ps_car_10_cat', 'ps_car_11_cat']\n",
        "\n",
        "enc = OneHotEncoder(drop='first')\n",
        "encoded_train = enc.fit_transform(X_train[cat_columns]).toarray()\n",
        "encoded_train = pd.DataFrame(encoded_train, columns=enc.get_feature_names_out())\n",
        "X_train = pd.concat([X_train, encoded_train], axis=1).drop(columns=cat_columns)"
      ]
    },
    {
      "cell_type": "code",
      "execution_count": 49,
      "metadata": {},
      "outputs": [],
      "source": [
        "encoded_test = enc.transform(X_test[cat_columns]).toarray()\n",
        "encoded_test = pd.DataFrame(encoded_test, columns=enc.get_feature_names_out())\n",
        "X_test = pd.concat([X_test, encoded_test], axis=1).drop(columns=cat_columns)"
      ]
    },
    {
      "cell_type": "code",
      "execution_count": 50,
      "metadata": {
        "id": "ps7YsHU2wCju"
      },
      "outputs": [],
      "source": [
        "### ╰( ͡° ͜ʖ ͡° )つ──☆*:・ﾟ\n",
        "from sklearn.preprocessing import StandardScaler\n",
        "\n",
        "sc = StandardScaler()\n",
        "\n",
        "train_columns = X_train.columns\n",
        "test_columns = X_test.columns\n",
        "\n",
        "X_train = pd.DataFrame(sc.fit_transform(X_train), columns= train_columns)\n",
        "X_test = pd.DataFrame(sc.transform(X_test), columns = test_columns)"
      ]
    },
    {
      "cell_type": "code",
      "execution_count": 51,
      "metadata": {},
      "outputs": [],
      "source": [
        "model = LogisticRegression(max_iter=1000, n_jobs = -1, tol = 0.1, solver='saga')\n",
        "model.fit(X_train, y_train)\n",
        "\n",
        "sel = SelectFromModel(model, max_features=200, threshold = 1e-5)\n",
        "\n",
        "sel.fit(X_train, y_train)\n",
        "\n",
        "X_train_max_feat = pd.DataFrame(sel.transform(X_train))\n",
        "X_test_max_feat = pd.DataFrame(sel.transform(X_test))"
      ]
    },
    {
      "cell_type": "code",
      "execution_count": 52,
      "metadata": {},
      "outputs": [
        {
          "data": {
            "text/plain": [
              "(476169, 200)"
            ]
          },
          "execution_count": 52,
          "metadata": {},
          "output_type": "execute_result"
        }
      ],
      "source": [
        "X_train_max_feat.shape"
      ]
    },
    {
      "cell_type": "code",
      "execution_count": 53,
      "metadata": {},
      "outputs": [],
      "source": [
        "X_train_max_feat = np.array(X_train_max_feat)\n",
        "X_test_max_feat = np.array(X_test_max_feat)\n",
        "y_train = np.array(y_train)\n",
        "y_test = np.array(y_test)"
      ]
    },
    {
      "cell_type": "code",
      "execution_count": 54,
      "metadata": {},
      "outputs": [
        {
          "name": "stdout",
          "output_type": "stream",
          "text": [
            "GD ROC-AUC: 0.6366\n",
            "Среднее время выполнения LogReg с полным градиентным спуском: 102.084 секунд\n"
          ]
        }
      ],
      "source": [
        "logreg_gd = LogReg(gd_type='full', max_iter=1000, tolerance=1e-6, eta=0.1)\n",
        "\n",
        "start_time = time.time()\n",
        "logreg_gd.fit(X_train_max_feat, y_train)\n",
        "end_time = time.time()\n",
        "gd_time = end_time - start_time\n",
        "\n",
        "# Вычисляем ROC-AUC\n",
        "y_prob_gd = logreg_gd.predict_proba(X_test_max_feat)\n",
        "roc_auc_gd = roc_auc_score(y_test, y_prob_gd)\n",
        "\n",
        "print(f\"GD ROC-AUC: {roc_auc_gd:.4f}\")\n",
        "print(f\"Среднее время выполнения LogReg с полным градиентным спуском: {gd_time:.3f} секунд\")"
      ]
    },
    {
      "cell_type": "code",
      "execution_count": 55,
      "metadata": {},
      "outputs": [
        {
          "name": "stdout",
          "output_type": "stream",
          "text": [
            "SGD ROC-AUC: 0.4951\n",
            "Среднее время выполнения LogReg со стохастическим градиентным спуском: 2.414 секунд\n"
          ]
        }
      ],
      "source": [
        "logreg_sgd = LogReg(gd_type='stochastic', max_iter=1000, tolerance=1e-6, eta=0.1)\n",
        "\n",
        "start_time = time.time()\n",
        "logreg_sgd.fit(X_train_max_feat, y_train)\n",
        "end_time = time.time()\n",
        "sgd_time = end_time - start_time\n",
        "\n",
        "# Вычисляем ROC-AUC\n",
        "y_prob_sgd = logreg_sgd.predict_proba(X_test_max_feat)\n",
        "roc_auc_sgd = roc_auc_score(y_test, y_prob_sgd)\n",
        "\n",
        "print(f\"SGD ROC-AUC: {roc_auc_sgd:.4f}\")\n",
        "print(f\"Среднее время выполнения LogReg со стохастическим градиентным спуском: {sgd_time:.3f} секунд\")"
      ]
    },
    {
      "cell_type": "markdown",
      "metadata": {},
      "source": [
        "Качество упало совсем немного, в пределах погрешности"
      ]
    },
    {
      "cell_type": "markdown",
      "metadata": {
        "id": "bSdSlSm6wCju"
      },
      "source": [
        "__Задание 10 (0.5 балла).__\n",
        "Можно задать отбор признаков более функционально. Вспомним, что L1-регуляризация также умеет отбирать признаки. Понятно, что теперь нам будет сложнее оставить именно 200 лучших признаков, но возможно они нам и не нужны. Подберите коэффициент регуляризации и проверьте, как изменилось качество. Получилось ли добиться лучшего качества при менее чем 200 признаках?"
      ]
    },
    {
      "cell_type": "code",
      "execution_count": 56,
      "metadata": {
        "id": "eM366KEZwCjv"
      },
      "outputs": [],
      "source": [
        "### ╰( ͡° ͜ʖ ͡° )つ──☆*:・ﾟ\n",
        "data = pd.read_csv('train.csv', index_col=0)\n",
        "target = data.target.values\n",
        "data = data.drop('target', axis=1)\n",
        "X_train, X_test, y_train, y_test = train_test_split(data, target, test_size=0.2, random_state=124)"
      ]
    },
    {
      "cell_type": "markdown",
      "metadata": {},
      "source": [
        "One-hot-encoding и масштабирование"
      ]
    },
    {
      "cell_type": "code",
      "execution_count": 57,
      "metadata": {},
      "outputs": [],
      "source": [
        "X_train = X_train.reset_index(drop=True)\n",
        "X_test = X_test.reset_index(drop=True)\n",
        "\n",
        "X_train = pd.concat([X_train, encoded_train], axis=1).drop(columns=cat_columns)\n",
        "X_test = pd.concat([X_test, encoded_test], axis=1).drop(columns=cat_columns)\n",
        "\n",
        "X_train = pd.DataFrame(sc.fit_transform(X_train), columns= train_columns)\n",
        "X_test = pd.DataFrame(sc.transform(X_test), columns = test_columns)"
      ]
    },
    {
      "cell_type": "code",
      "execution_count": 58,
      "metadata": {},
      "outputs": [
        {
          "data": {
            "text/html": [
              "<style>#sk-container-id-1 {color: black;}#sk-container-id-1 pre{padding: 0;}#sk-container-id-1 div.sk-toggleable {background-color: white;}#sk-container-id-1 label.sk-toggleable__label {cursor: pointer;display: block;width: 100%;margin-bottom: 0;padding: 0.3em;box-sizing: border-box;text-align: center;}#sk-container-id-1 label.sk-toggleable__label-arrow:before {content: \"▸\";float: left;margin-right: 0.25em;color: #696969;}#sk-container-id-1 label.sk-toggleable__label-arrow:hover:before {color: black;}#sk-container-id-1 div.sk-estimator:hover label.sk-toggleable__label-arrow:before {color: black;}#sk-container-id-1 div.sk-toggleable__content {max-height: 0;max-width: 0;overflow: hidden;text-align: left;background-color: #f0f8ff;}#sk-container-id-1 div.sk-toggleable__content pre {margin: 0.2em;color: black;border-radius: 0.25em;background-color: #f0f8ff;}#sk-container-id-1 input.sk-toggleable__control:checked~div.sk-toggleable__content {max-height: 200px;max-width: 100%;overflow: auto;}#sk-container-id-1 input.sk-toggleable__control:checked~label.sk-toggleable__label-arrow:before {content: \"▾\";}#sk-container-id-1 div.sk-estimator input.sk-toggleable__control:checked~label.sk-toggleable__label {background-color: #d4ebff;}#sk-container-id-1 div.sk-label input.sk-toggleable__control:checked~label.sk-toggleable__label {background-color: #d4ebff;}#sk-container-id-1 input.sk-hidden--visually {border: 0;clip: rect(1px 1px 1px 1px);clip: rect(1px, 1px, 1px, 1px);height: 1px;margin: -1px;overflow: hidden;padding: 0;position: absolute;width: 1px;}#sk-container-id-1 div.sk-estimator {font-family: monospace;background-color: #f0f8ff;border: 1px dotted black;border-radius: 0.25em;box-sizing: border-box;margin-bottom: 0.5em;}#sk-container-id-1 div.sk-estimator:hover {background-color: #d4ebff;}#sk-container-id-1 div.sk-parallel-item::after {content: \"\";width: 100%;border-bottom: 1px solid gray;flex-grow: 1;}#sk-container-id-1 div.sk-label:hover label.sk-toggleable__label {background-color: #d4ebff;}#sk-container-id-1 div.sk-serial::before {content: \"\";position: absolute;border-left: 1px solid gray;box-sizing: border-box;top: 0;bottom: 0;left: 50%;z-index: 0;}#sk-container-id-1 div.sk-serial {display: flex;flex-direction: column;align-items: center;background-color: white;padding-right: 0.2em;padding-left: 0.2em;position: relative;}#sk-container-id-1 div.sk-item {position: relative;z-index: 1;}#sk-container-id-1 div.sk-parallel {display: flex;align-items: stretch;justify-content: center;background-color: white;position: relative;}#sk-container-id-1 div.sk-item::before, #sk-container-id-1 div.sk-parallel-item::before {content: \"\";position: absolute;border-left: 1px solid gray;box-sizing: border-box;top: 0;bottom: 0;left: 50%;z-index: -1;}#sk-container-id-1 div.sk-parallel-item {display: flex;flex-direction: column;z-index: 1;position: relative;background-color: white;}#sk-container-id-1 div.sk-parallel-item:first-child::after {align-self: flex-end;width: 50%;}#sk-container-id-1 div.sk-parallel-item:last-child::after {align-self: flex-start;width: 50%;}#sk-container-id-1 div.sk-parallel-item:only-child::after {width: 0;}#sk-container-id-1 div.sk-dashed-wrapped {border: 1px dashed gray;margin: 0 0.4em 0.5em 0.4em;box-sizing: border-box;padding-bottom: 0.4em;background-color: white;}#sk-container-id-1 div.sk-label label {font-family: monospace;font-weight: bold;display: inline-block;line-height: 1.2em;}#sk-container-id-1 div.sk-label-container {text-align: center;}#sk-container-id-1 div.sk-container {/* jupyter's `normalize.less` sets `[hidden] { display: none; }` but bootstrap.min.css set `[hidden] { display: none !important; }` so we also need the `!important` here to be able to override the default hidden behavior on the sphinx rendered scikit-learn.org. See: https://github.com/scikit-learn/scikit-learn/issues/21755 */display: inline-block !important;position: relative;}#sk-container-id-1 div.sk-text-repr-fallback {display: none;}</style><div id=\"sk-container-id-1\" class=\"sk-top-container\"><div class=\"sk-text-repr-fallback\"><pre>LogisticRegression(C=0.1, max_iter=1000, n_jobs=-1, penalty=&#x27;l1&#x27;, solver=&#x27;saga&#x27;,\n",
              "                   tol=0.1)</pre><b>In a Jupyter environment, please rerun this cell to show the HTML representation or trust the notebook. <br />On GitHub, the HTML representation is unable to render, please try loading this page with nbviewer.org.</b></div><div class=\"sk-container\" hidden><div class=\"sk-item\"><div class=\"sk-estimator sk-toggleable\"><input class=\"sk-toggleable__control sk-hidden--visually\" id=\"sk-estimator-id-1\" type=\"checkbox\" checked><label for=\"sk-estimator-id-1\" class=\"sk-toggleable__label sk-toggleable__label-arrow\">LogisticRegression</label><div class=\"sk-toggleable__content\"><pre>LogisticRegression(C=0.1, max_iter=1000, n_jobs=-1, penalty=&#x27;l1&#x27;, solver=&#x27;saga&#x27;,\n",
              "                   tol=0.1)</pre></div></div></div></div></div>"
            ],
            "text/plain": [
              "LogisticRegression(C=0.1, max_iter=1000, n_jobs=-1, penalty='l1', solver='saga',\n",
              "                   tol=0.1)"
            ]
          },
          "execution_count": 58,
          "metadata": {},
          "output_type": "execute_result"
        }
      ],
      "source": [
        "model = LogisticRegression(max_iter=1000, n_jobs=-1, tol=0.1, solver='saga', penalty='l1', C=0.1)\n",
        "\n",
        "model.fit(X_train, y_train)"
      ]
    },
    {
      "cell_type": "markdown",
      "metadata": {},
      "source": [
        "Не будем вводить порог при выборе признаков, отдаем всю власть l1"
      ]
    },
    {
      "cell_type": "code",
      "execution_count": 59,
      "metadata": {},
      "outputs": [
        {
          "data": {
            "text/plain": [
              "(476169, 200)"
            ]
          },
          "execution_count": 59,
          "metadata": {},
          "output_type": "execute_result"
        }
      ],
      "source": [
        "sel = SelectFromModel(model, max_features=200)\n",
        "\n",
        "sel.fit(X_train, y_train)\n",
        "\n",
        "X_train = pd.DataFrame(sel.transform(X_train))\n",
        "X_test = pd.DataFrame(sel.transform(X_test))\n",
        "\n",
        "X_train.shape"
      ]
    },
    {
      "cell_type": "markdown",
      "metadata": {},
      "source": [
        "Однако признаков все равно осталось столько же, сколько и без l1-регуляризации"
      ]
    },
    {
      "cell_type": "code",
      "execution_count": 60,
      "metadata": {},
      "outputs": [],
      "source": [
        "X_train = np.array(X_train)\n",
        "X_test = np.array(X_test)\n",
        "y_train = np.array(y_train)\n",
        "y_test = np.array(y_test)"
      ]
    },
    {
      "cell_type": "code",
      "execution_count": 61,
      "metadata": {},
      "outputs": [
        {
          "name": "stdout",
          "output_type": "stream",
          "text": [
            "GD ROC-AUC: 0.6364\n",
            "Среднее время выполнения LogReg с полным градиентным спуском: 99.545 секунд\n"
          ]
        }
      ],
      "source": [
        "logreg_gd = LogReg(gd_type='full', max_iter=1000, tolerance=1e-6, eta=0.1)\n",
        "\n",
        "start_time = time.time()\n",
        "logreg_gd.fit(X_train, y_train)\n",
        "end_time = time.time()\n",
        "gd_time = end_time - start_time\n",
        "\n",
        "# Вычисляем ROC-AUC\n",
        "y_prob_gd = logreg_gd.predict_proba(X_test)\n",
        "roc_auc_gd = roc_auc_score(y_test, y_prob_gd)\n",
        "\n",
        "print(f\"GD ROC-AUC: {roc_auc_gd:.4f}\")\n",
        "print(f\"Среднее время выполнения LogReg с полным градиентным спуском: {gd_time:.3f} секунд\")"
      ]
    },
    {
      "cell_type": "code",
      "execution_count": 62,
      "metadata": {},
      "outputs": [
        {
          "name": "stdout",
          "output_type": "stream",
          "text": [
            "SGD ROC-AUC: 0.5104\n",
            "Среднее время выполнения LogReg со стохастическим градиентным спуском: 2.849 секунд\n"
          ]
        }
      ],
      "source": [
        "logreg_sgd = LogReg(gd_type='stochastic', max_iter=1000, tolerance=1e-6, eta=0.1)\n",
        "\n",
        "start_time = time.time()\n",
        "logreg_sgd.fit(X_train, y_train)\n",
        "end_time = time.time()\n",
        "sgd_time = end_time - start_time\n",
        "\n",
        "# Вычисляем ROC-AUC\n",
        "y_prob_sgd = logreg_sgd.predict_proba(X_test)\n",
        "roc_auc_sgd = roc_auc_score(y_test, y_prob_sgd)\n",
        "\n",
        "print(f\"SGD ROC-AUC: {roc_auc_sgd:.4f}\")\n",
        "print(f\"Среднее время выполнения LogReg со стохастическим градиентным спуском: {sgd_time:.3f} секунд\")"
      ]
    },
    {
      "cell_type": "markdown",
      "metadata": {},
      "source": [
        "Соответственно, результаты получаем идентичные"
      ]
    },
    {
      "cell_type": "markdown",
      "metadata": {},
      "source": [
        "### Попробуем использовать SelectFromModel без порога и без регуляризации. Сколько признаков отберет?"
      ]
    },
    {
      "cell_type": "code",
      "execution_count": 63,
      "metadata": {},
      "outputs": [],
      "source": [
        "data = pd.read_csv('train.csv', index_col=0)\n",
        "target = data.target.values\n",
        "data = data.drop('target', axis=1)\n",
        "X_train, X_test, y_train, y_test = train_test_split(data, target, test_size=0.2, random_state=124)"
      ]
    },
    {
      "cell_type": "code",
      "execution_count": 64,
      "metadata": {},
      "outputs": [],
      "source": [
        "X_train = X_train.reset_index(drop=True)\n",
        "X_test = X_test.reset_index(drop=True)\n",
        "\n",
        "X_train = pd.concat([X_train, encoded_train], axis=1).drop(columns=cat_columns)\n",
        "X_test = pd.concat([X_test, encoded_test], axis=1).drop(columns=cat_columns)\n",
        "\n",
        "X_train = pd.DataFrame(sc.fit_transform(X_train), columns= train_columns)\n",
        "X_test = pd.DataFrame(sc.transform(X_test), columns = test_columns)"
      ]
    },
    {
      "cell_type": "code",
      "execution_count": 65,
      "metadata": {},
      "outputs": [
        {
          "data": {
            "text/html": [
              "<style>#sk-container-id-2 {color: black;}#sk-container-id-2 pre{padding: 0;}#sk-container-id-2 div.sk-toggleable {background-color: white;}#sk-container-id-2 label.sk-toggleable__label {cursor: pointer;display: block;width: 100%;margin-bottom: 0;padding: 0.3em;box-sizing: border-box;text-align: center;}#sk-container-id-2 label.sk-toggleable__label-arrow:before {content: \"▸\";float: left;margin-right: 0.25em;color: #696969;}#sk-container-id-2 label.sk-toggleable__label-arrow:hover:before {color: black;}#sk-container-id-2 div.sk-estimator:hover label.sk-toggleable__label-arrow:before {color: black;}#sk-container-id-2 div.sk-toggleable__content {max-height: 0;max-width: 0;overflow: hidden;text-align: left;background-color: #f0f8ff;}#sk-container-id-2 div.sk-toggleable__content pre {margin: 0.2em;color: black;border-radius: 0.25em;background-color: #f0f8ff;}#sk-container-id-2 input.sk-toggleable__control:checked~div.sk-toggleable__content {max-height: 200px;max-width: 100%;overflow: auto;}#sk-container-id-2 input.sk-toggleable__control:checked~label.sk-toggleable__label-arrow:before {content: \"▾\";}#sk-container-id-2 div.sk-estimator input.sk-toggleable__control:checked~label.sk-toggleable__label {background-color: #d4ebff;}#sk-container-id-2 div.sk-label input.sk-toggleable__control:checked~label.sk-toggleable__label {background-color: #d4ebff;}#sk-container-id-2 input.sk-hidden--visually {border: 0;clip: rect(1px 1px 1px 1px);clip: rect(1px, 1px, 1px, 1px);height: 1px;margin: -1px;overflow: hidden;padding: 0;position: absolute;width: 1px;}#sk-container-id-2 div.sk-estimator {font-family: monospace;background-color: #f0f8ff;border: 1px dotted black;border-radius: 0.25em;box-sizing: border-box;margin-bottom: 0.5em;}#sk-container-id-2 div.sk-estimator:hover {background-color: #d4ebff;}#sk-container-id-2 div.sk-parallel-item::after {content: \"\";width: 100%;border-bottom: 1px solid gray;flex-grow: 1;}#sk-container-id-2 div.sk-label:hover label.sk-toggleable__label {background-color: #d4ebff;}#sk-container-id-2 div.sk-serial::before {content: \"\";position: absolute;border-left: 1px solid gray;box-sizing: border-box;top: 0;bottom: 0;left: 50%;z-index: 0;}#sk-container-id-2 div.sk-serial {display: flex;flex-direction: column;align-items: center;background-color: white;padding-right: 0.2em;padding-left: 0.2em;position: relative;}#sk-container-id-2 div.sk-item {position: relative;z-index: 1;}#sk-container-id-2 div.sk-parallel {display: flex;align-items: stretch;justify-content: center;background-color: white;position: relative;}#sk-container-id-2 div.sk-item::before, #sk-container-id-2 div.sk-parallel-item::before {content: \"\";position: absolute;border-left: 1px solid gray;box-sizing: border-box;top: 0;bottom: 0;left: 50%;z-index: -1;}#sk-container-id-2 div.sk-parallel-item {display: flex;flex-direction: column;z-index: 1;position: relative;background-color: white;}#sk-container-id-2 div.sk-parallel-item:first-child::after {align-self: flex-end;width: 50%;}#sk-container-id-2 div.sk-parallel-item:last-child::after {align-self: flex-start;width: 50%;}#sk-container-id-2 div.sk-parallel-item:only-child::after {width: 0;}#sk-container-id-2 div.sk-dashed-wrapped {border: 1px dashed gray;margin: 0 0.4em 0.5em 0.4em;box-sizing: border-box;padding-bottom: 0.4em;background-color: white;}#sk-container-id-2 div.sk-label label {font-family: monospace;font-weight: bold;display: inline-block;line-height: 1.2em;}#sk-container-id-2 div.sk-label-container {text-align: center;}#sk-container-id-2 div.sk-container {/* jupyter's `normalize.less` sets `[hidden] { display: none; }` but bootstrap.min.css set `[hidden] { display: none !important; }` so we also need the `!important` here to be able to override the default hidden behavior on the sphinx rendered scikit-learn.org. See: https://github.com/scikit-learn/scikit-learn/issues/21755 */display: inline-block !important;position: relative;}#sk-container-id-2 div.sk-text-repr-fallback {display: none;}</style><div id=\"sk-container-id-2\" class=\"sk-top-container\"><div class=\"sk-text-repr-fallback\"><pre>LogisticRegression(max_iter=1000, n_jobs=-1, solver=&#x27;saga&#x27;, tol=0.1)</pre><b>In a Jupyter environment, please rerun this cell to show the HTML representation or trust the notebook. <br />On GitHub, the HTML representation is unable to render, please try loading this page with nbviewer.org.</b></div><div class=\"sk-container\" hidden><div class=\"sk-item\"><div class=\"sk-estimator sk-toggleable\"><input class=\"sk-toggleable__control sk-hidden--visually\" id=\"sk-estimator-id-2\" type=\"checkbox\" checked><label for=\"sk-estimator-id-2\" class=\"sk-toggleable__label sk-toggleable__label-arrow\">LogisticRegression</label><div class=\"sk-toggleable__content\"><pre>LogisticRegression(max_iter=1000, n_jobs=-1, solver=&#x27;saga&#x27;, tol=0.1)</pre></div></div></div></div></div>"
            ],
            "text/plain": [
              "LogisticRegression(max_iter=1000, n_jobs=-1, solver='saga', tol=0.1)"
            ]
          },
          "execution_count": 65,
          "metadata": {},
          "output_type": "execute_result"
        }
      ],
      "source": [
        "model = LogisticRegression(max_iter=1000, n_jobs=-1, tol = 0.1, solver='saga')\n",
        "\n",
        "model.fit(X_train, y_train)"
      ]
    },
    {
      "cell_type": "code",
      "execution_count": 66,
      "metadata": {},
      "outputs": [
        {
          "data": {
            "text/plain": [
              "(476169, 63)"
            ]
          },
          "execution_count": 66,
          "metadata": {},
          "output_type": "execute_result"
        }
      ],
      "source": [
        "sel = SelectFromModel(model, max_features=200)\n",
        "\n",
        "sel.fit(X_train, y_train)\n",
        "\n",
        "X_train = pd.DataFrame(sel.transform(X_train))\n",
        "X_test = pd.DataFrame(sel.transform(X_test))\n",
        "\n",
        "X_train.shape"
      ]
    },
    {
      "cell_type": "markdown",
      "metadata": {},
      "source": [
        "Осталось всего лишь около 60 признаков. Посмотрим на качество"
      ]
    },
    {
      "cell_type": "code",
      "execution_count": 67,
      "metadata": {},
      "outputs": [],
      "source": [
        "X_train = np.array(X_train)\n",
        "X_test = np.array(X_test)\n",
        "y_train = np.array(y_train)\n",
        "y_test = np.array(y_test)"
      ]
    },
    {
      "cell_type": "code",
      "execution_count": 68,
      "metadata": {},
      "outputs": [
        {
          "name": "stdout",
          "output_type": "stream",
          "text": [
            "GD ROC-AUC: 0.6379\n",
            "Среднее время выполнения LogReg с полным градиентным спуском: 49.926 секунд\n"
          ]
        }
      ],
      "source": [
        "logreg_gd = LogReg(gd_type='full', max_iter=1000, tolerance=1e-6, eta=0.1)\n",
        "\n",
        "start_time = time.time()\n",
        "logreg_gd.fit(X_train, y_train)\n",
        "end_time = time.time()\n",
        "gd_time = end_time - start_time\n",
        "\n",
        "# Вычисляем ROC-AUC\n",
        "y_prob_gd = logreg_gd.predict_proba(X_test)\n",
        "roc_auc_gd = roc_auc_score(y_test, y_prob_gd)\n",
        "\n",
        "print(f\"GD ROC-AUC: {roc_auc_gd:.4f}\")\n",
        "print(f\"Среднее время выполнения LogReg с полным градиентным спуском: {gd_time:.3f} секунд\")"
      ]
    },
    {
      "cell_type": "code",
      "execution_count": 69,
      "metadata": {},
      "outputs": [
        {
          "name": "stdout",
          "output_type": "stream",
          "text": [
            "SGD ROC-AUC: 0.5314\n",
            "Среднее время выполнения LogReg со стохастическим градиентным спуском: 4.516 секунд\n"
          ]
        }
      ],
      "source": [
        "logreg_sgd = LogReg(gd_type='stochastic', max_iter=1000, tolerance=1e-6, eta=0.1)\n",
        "\n",
        "start_time = time.time()\n",
        "logreg_sgd.fit(X_train, y_train)\n",
        "end_time = time.time()\n",
        "sgd_time = end_time - start_time\n",
        "\n",
        "# Вычисляем ROC-AUC\n",
        "y_prob_sgd = logreg_sgd.predict_proba(X_test)\n",
        "roc_auc_sgd = roc_auc_score(y_test, y_prob_sgd)\n",
        "\n",
        "print(f\"SGD ROC-AUC: {roc_auc_sgd:.4f}\")\n",
        "print(f\"Среднее время выполнения LogReg со стохастическим градиентным спуском: {sgd_time:.3f} секунд\")"
      ]
    },
    {
      "cell_type": "markdown",
      "metadata": {},
      "source": [
        "Качество получается получше на полном градиентном спуске, и считается ожидаемо быстрее"
      ]
    },
    {
      "cell_type": "markdown",
      "metadata": {
        "id": "znUdgspXwCjv"
      },
      "source": [
        "### Методы фильтрации"
      ]
    },
    {
      "cell_type": "markdown",
      "metadata": {
        "id": "xO3EoZrZwCjv"
      },
      "source": [
        "Давайте отбирать признаки умнее, а именно через подсчёт некоторой функции для каждого признака. На основании значений этой функции будем оставлять наиболее важные признаки. Методы этого семейства называют фильтрующими или  filter methods.\n",
        "\n",
        "В качестве такой функции будем считать t-статистику:\n",
        "\n",
        "$$t(x) = \\frac{|\\mu_+ - \\mu_-|}{\\sqrt{\\frac{n_+ \\sigma^2_+ + n_- \\sigma^2_-}{n_+ + n_-}}},$$\n",
        "\n",
        "где $mu$, $sigma$, $n$ соответственно среднее, среднеквадратичное отклонение и количество объектов каждого из классов.\n",
        "\n",
        "Если у вас был курс математической статистики, то вы без труда узнаете статистику гипотезы о разности средних при неизвестных дисперсиях. Если же нет, то интуиция следующая. Вообще мы хотим понять, различаются ли распределения признака для двух разных классов. Мы проверяем, что математические ожидания двух распределений различаются. Если они различаются, значит и сами распределения разные. Отсюда можно сделать вывод, что по этому признаку модель сможет отличить один класс от другого. А если распределения неотличимы и статистика маленькая, то и признак бесполезен.\n",
        "\n",
        "Важно оговориться, что хотя мы и не используем статистическое тестирование явно, предпосылки о том, что наблюдения независимы, одинаково распределены и n велико, должны соблюдаться, иначе статистика не имеет смысла. Но у нас большая выборка, поэтому они выполняются. По-хорошему, конечно, надо бы сравнивать статистику с пороговым значением t-распределения и полноценно тестировать гипотезу, но мы обойдёмся простой эвристикой и возьмём признаки с наибольшим значением.\n",
        "\n",
        "\n",
        "__Задание 11 (1 балл)__. Оставьте 200 признаков с наибольшим значением и замерьте качество. Не забудьте замерить скорость отбора признаков в этом случаев."
      ]
    },
    {
      "cell_type": "code",
      "execution_count": 70,
      "metadata": {
        "id": "i258hAbEwCjv"
      },
      "outputs": [],
      "source": [
        "### ╰( ͡° ͜ʖ ͡° )つ──☆*:・ﾟ\n",
        "def t_statistic(X, y):\n",
        "    \"\"\"     \n",
        "    Вычисляет t-статистику\n",
        "\n",
        "    in: Матрицы объектов и целевой переменной X, y \n",
        "    out: \n",
        "        - Значение t-статистики для каждого признака;\n",
        "        - Индексы признаков с наибольшими значениями\n",
        "        t-статистики.\n",
        "    \"\"\"\n",
        "\n",
        "    # Разделяем данные по классам\n",
        "    X_positive = X[y == 1]\n",
        "    X_negative = X[y == 0]\n",
        "    \n",
        "    # Вычисляем средние значения для каждого класса\n",
        "    mu_positive = np.mean(X_positive, axis=0)\n",
        "    mu_negative = np.mean(X_negative, axis=0)\n",
        "    \n",
        "    # Вычислеяем количество объектов каждого класса\n",
        "    n_positive = len(X_positive)\n",
        "    n_negative = len(X_negative)\n",
        "    \n",
        "    # Вычисляем среднеквадратичное отклонение для каждого класса\n",
        "    sigma_positive = np.std(X_positive, axis=0)\n",
        "    sigma_negative = np.std(X_negative, axis=0)\n",
        "    \n",
        "    # Вычисляем t-статистику для каждого признака\n",
        "    numerator = np.abs(mu_positive - mu_negative)\n",
        "    denominator = np.sqrt(((n_positive - 1) * sigma_positive ** 2 + (n_negative - 1) * sigma_negative ** 2) / (n_positive + n_negative - 2))\n",
        "    t_statistic = numerator / denominator\n",
        "\n",
        "    # Отбираем признаки с наибольшими значениями t-статистики\n",
        "    top_ind = np.argsort(t_statistic)[::-1]\n",
        "\n",
        "    return t_statistic, top_ind"
      ]
    },
    {
      "cell_type": "code",
      "execution_count": 71,
      "metadata": {},
      "outputs": [],
      "source": [
        "data = pd.read_csv('train.csv', index_col=0)\n",
        "target = data.target.values\n",
        "data = data.drop('target', axis=1)\n",
        "X_train, X_test, y_train, y_test = train_test_split(data, target, test_size=0.2, random_state=124)"
      ]
    },
    {
      "cell_type": "code",
      "execution_count": 72,
      "metadata": {},
      "outputs": [],
      "source": [
        "X_train = X_train.reset_index(drop=True)\n",
        "X_test = X_test.reset_index(drop=True)\n",
        "\n",
        "X_train = pd.concat([X_train, encoded_train], axis=1).drop(columns=cat_columns)\n",
        "X_test = pd.concat([X_test, encoded_test], axis=1).drop(columns=cat_columns)\n",
        "\n",
        "X_train = pd.DataFrame(sc.fit_transform(X_train), columns= train_columns)\n",
        "X_test = pd.DataFrame(sc.transform(X_test), columns = test_columns)"
      ]
    },
    {
      "cell_type": "code",
      "execution_count": 73,
      "metadata": {},
      "outputs": [
        {
          "name": "stdout",
          "output_type": "stream",
          "text": [
            "Суммарно на фильтрацию признаков в тренировочном и тестовом датафреймах ушло 1.783 секунд.\n"
          ]
        }
      ],
      "source": [
        "start_time = time.time()\n",
        "t_statistic, top_ind = t_statistic(X_train, y_train)\n",
        "top_200_ind = top_ind[:200]\n",
        "columns_new = X_train.columns[top_200_ind]\n",
        "\n",
        "X_train = X_train[columns_new]\n",
        "X_test = X_test[columns_new]\n",
        "end_time = time.time()\n",
        "t_stat_time = end_time - start_time\n",
        "\n",
        "print(f'Суммарно на фильтрацию признаков в тренировочном и тестовом датафреймах ушло {t_stat_time:.3f} секунд.')"
      ]
    },
    {
      "cell_type": "code",
      "execution_count": 74,
      "metadata": {},
      "outputs": [
        {
          "data": {
            "text/plain": [
              "(476169, 200)"
            ]
          },
          "execution_count": 74,
          "metadata": {},
          "output_type": "execute_result"
        }
      ],
      "source": [
        "X_train.shape"
      ]
    },
    {
      "cell_type": "code",
      "execution_count": 75,
      "metadata": {},
      "outputs": [],
      "source": [
        "X_train = np.array(X_train)\n",
        "X_test = np.array(X_test)\n",
        "y_train = np.array(y_train)\n",
        "y_test = np.array(y_test)"
      ]
    },
    {
      "cell_type": "code",
      "execution_count": 76,
      "metadata": {},
      "outputs": [
        {
          "name": "stdout",
          "output_type": "stream",
          "text": [
            "GD ROC-AUC: 0.6366\n",
            "Среднее время выполнения LogReg с полным градиентным спуском: 99.814 секунд\n"
          ]
        }
      ],
      "source": [
        "logreg_gd = LogReg(gd_type='full', max_iter=1000, tolerance=1e-6, eta=0.1)\n",
        "\n",
        "start_time = time.time()\n",
        "logreg_gd.fit(X_train, y_train)\n",
        "end_time = time.time()\n",
        "gd_time = end_time - start_time\n",
        "\n",
        "# Вычисляем ROC-AUC\n",
        "y_prob_gd = logreg_gd.predict_proba(X_test)\n",
        "roc_auc_gd = roc_auc_score(y_test, y_prob_gd)\n",
        "\n",
        "print(f\"GD ROC-AUC: {roc_auc_gd:.4f}\")\n",
        "print(f\"Среднее время выполнения LogReg с полным градиентным спуском: {gd_time:.3f} секунд\")"
      ]
    },
    {
      "cell_type": "code",
      "execution_count": 77,
      "metadata": {},
      "outputs": [
        {
          "name": "stdout",
          "output_type": "stream",
          "text": [
            "SGD ROC-AUC: 0.5294\n",
            "Среднее время выполнения LogReg со стохастическим градиентным спуском: 1.925 секунд\n"
          ]
        }
      ],
      "source": [
        "logreg_sgd = LogReg(gd_type='stochastic', max_iter=1000, tolerance=1e-6, eta=0.1)\n",
        "\n",
        "start_time = time.time()\n",
        "logreg_sgd.fit(X_train, y_train)\n",
        "end_time = time.time()\n",
        "sgd_time = end_time - start_time\n",
        "\n",
        "# Вычисляем ROC-AUC\n",
        "y_prob_sgd = logreg_sgd.predict_proba(X_test)\n",
        "roc_auc_sgd = roc_auc_score(y_test, y_prob_sgd)\n",
        "\n",
        "print(f\"SGD ROC-AUC: {roc_auc_sgd:.4f}\")\n",
        "print(f\"Среднее время выполнения LogReg со стохастическим градиентным спуском: {sgd_time:.3f} секунд\")"
      ]
    },
    {
      "cell_type": "markdown",
      "metadata": {},
      "source": [
        "Качество получилось чуть-чуть хуже, чем с встроенными методами"
      ]
    },
    {
      "cell_type": "markdown",
      "metadata": {
        "id": "VQ8-gvVxwCjw"
      },
      "source": [
        "### Методы-обёртки"
      ]
    },
    {
      "cell_type": "markdown",
      "metadata": {
        "id": "DXyK9eKvwCjw"
      },
      "source": [
        "__Задание 12 (бонус, 1 балл)__.\n",
        "\n",
        "\n",
        "Заключительный из рассматриваемых нами методов работает следующим образом: мы исключаем по очереди один из признаков и смотрим, как это влияет на качество. Удаляем признаки таким жадным способом, пока не достигнем некоторого критерия (количество признаков или ухудшением качества).\n",
        "\n",
        "Заметим, что нельзя оценивать качество по тестовой выборке, иначе мы можем переобучиться, как, например, при настройке гиперпараметров. Разделите выборку на 2 части, на одной из них обучайте модель без одного из признаков,  на второй части оценивайте качество. Исходную тестовую выборку стоит использовать только на финальной оценке качества.\n",
        "\n",
        "Сделайте одну итерацию и прикиньте, сколько времени займёт такой отбор признаков. Кажется, что чересчур. Давайте возьмём маленький сэмпл данных (например, в 10 тысяч объектов), что сильно уменьшит время итерации. Теперь это долго, но уже приемлимо.\n",
        "\n",
        "Если это всё ещё долго для вашего комьютера, можете попробовать брать не по одному признаку, а сразу по пять (и удалять сразу тоже по 5). Для этого перед каждой итерацией удаления делите заново все признаки на группы по 5 штук.\n",
        "\n",
        "Снова оставьте только 200 признаков и оцените качество на тестовой выборке. Сколько времени занял такой отбор признаков?"
      ]
    },
    {
      "cell_type": "code",
      "execution_count": 78,
      "metadata": {
        "id": "3NXwT2LGwCjx"
      },
      "outputs": [],
      "source": [
        "### ╰( ͡° ͜ʖ ͡° )つ──☆*:・ﾟ"
      ]
    },
    {
      "cell_type": "markdown",
      "metadata": {
        "id": "az8UgC9VwCjx"
      },
      "source": [
        "Опционально (это не оценивается) можете рассмотреть более интересные стратегии отбора, чем жадная. Например, генетические алгоритмы. Можно закодировать бинарным вектором, включаем мы или нет тот или иной признак в модель. А дальше генетическим алгоритмом оптимизировать этот вектор. Всё ещё не быстро, но точно быстрее жадного.\n"
      ]
    },
    {
      "cell_type": "markdown",
      "metadata": {
        "id": "baEvedGqwCjx"
      },
      "source": [
        "**Задание 13 (0.5 балла)** Давайте подведём итоги по отбору признаков. Назовите преимущества и недостатки каждого из методов. Какой метод привёл к наилучшему качеству? Если не делали бонус — сравните встроенный метод и метод фильтрации.\n",
        "\n",
        "**Ответ:** ..."
      ]
    },
    {
      "cell_type": "markdown",
      "metadata": {},
      "source": [
        "**Сравним методы отбора признаков:**\n",
        "\n",
        "\n",
        "### Встроенные методы:\n",
        "\n",
        "- Маскимальная величина GD ROC-AUC: 0.638 (на ~60 признаках)\n",
        "\n",
        "- Преимущества:\n",
        "    - Отбор признаков происходит на основе конкретной модели, что позволяет учесть ее особенности.\n",
        "- Недостатки:\n",
        "    - Могут сохранять избыточные или неважные признаки, особенно если модель нечувствительна к ним (но это частично решается подбором порога -- в моем случае параметром threshold, задаваемым вручную)\n",
        "    - Могут быть специфичными для конкретного типа модели и не всегда пременимы к другим типам моделей.\n",
        "\n",
        "### Методы фильтрации:\n",
        "\n",
        "- Маскимальная величина GD ROC-AUC: 0.637\n",
        "\n",
        "- Преимущества:\n",
        "\n",
        "    - Рассчитывают статистические меры для каждого признака независимо от модели -- это делает их более эффективными с точки зрения вычислений.\n",
        "    - Легкость интерпретации.\n",
        "\n",
        "- Недостатки:\n",
        "\n",
        "    - Фильтруя признаки, мы можем упустить важные сложные взаимосвязи признаков с целевой переменной, снижая итоговую точность модели."
      ]
    },
    {
      "cell_type": "markdown",
      "metadata": {},
      "source": []
    }
  ],
  "metadata": {
    "colab": {
      "provenance": []
    },
    "kernelspec": {
      "display_name": "Python 3 (ipykernel)",
      "language": "python",
      "name": "python3"
    },
    "language_info": {
      "codemirror_mode": {
        "name": "ipython",
        "version": 3
      },
      "file_extension": ".py",
      "mimetype": "text/x-python",
      "name": "python",
      "nbconvert_exporter": "python",
      "pygments_lexer": "ipython3",
      "version": "3.12.0"
    },
    "toc": {
      "base_numbering": 1,
      "nav_menu": {},
      "number_sections": true,
      "sideBar": true,
      "skip_h1_title": true,
      "title_cell": "Table of Contents",
      "title_sidebar": "Contents",
      "toc_cell": false,
      "toc_position": {},
      "toc_section_display": true,
      "toc_window_display": false
    },
    "varInspector": {
      "cols": {
        "lenName": 16,
        "lenType": 16,
        "lenVar": 40
      },
      "kernels_config": {
        "python": {
          "delete_cmd_postfix": "",
          "delete_cmd_prefix": "del ",
          "library": "var_list.py",
          "varRefreshCmd": "print(var_dic_list())"
        },
        "r": {
          "delete_cmd_postfix": ") ",
          "delete_cmd_prefix": "rm(",
          "library": "var_list.r",
          "varRefreshCmd": "cat(var_dic_list()) "
        }
      },
      "types_to_exclude": [
        "module",
        "function",
        "builtin_function_or_method",
        "instance",
        "_Feature"
      ],
      "window_display": false
    }
  },
  "nbformat": 4,
  "nbformat_minor": 0
}
